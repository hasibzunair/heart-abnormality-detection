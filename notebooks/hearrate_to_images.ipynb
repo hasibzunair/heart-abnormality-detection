{
 "cells": [
  {
   "cell_type": "markdown",
   "metadata": {},
   "source": [
    "### Convert 1D heart rates to images"
   ]
  },
  {
   "cell_type": "code",
   "execution_count": null,
   "metadata": {},
   "outputs": [],
   "source": [
    "import os \n",
    "import pandas as pd\n",
    "import numpy as np\n",
    "import matplotlib.pyplot as plt\n",
    "import cv2\n",
    "\n",
    "ROOT_DIR = os.path.abspath(\"../\")"
   ]
  },
  {
   "cell_type": "code",
   "execution_count": null,
   "metadata": {},
   "outputs": [],
   "source": [
    "# Load data\n",
    "data = np.load(os.path.join(ROOT_DIR, \"datasets\", \"train_1D.npz\"))\n",
    "x = data['name1']\n",
    "y = data['name2']\n",
    "sym = data['name3']\n",
    "\n",
    "x.shape, y.shape, sym.shape"
   ]
  },
  {
   "cell_type": "code",
   "execution_count": null,
   "metadata": {},
   "outputs": [],
   "source": [
    "# Dirs\n",
    "normal = os.path.join(ROOT_DIR, \"datasets\", \"mit-bih-ad-images\", \"train\", \"normal\")\n",
    "abnormal = os.path.join(ROOT_DIR, \"datasets\", \"mit-bih-ad-images\", \"train\", \"abnormal\")\n",
    "\n",
    "os.makedirs(normal)\n",
    "os.makedirs(abnormal)"
   ]
  },
  {
   "cell_type": "code",
   "execution_count": null,
   "metadata": {},
   "outputs": [],
   "source": [
    "values, counts = np.unique(y, return_counts=True)\n",
    "for v,c in zip(values, counts):\n",
    "    print(v,c)"
   ]
  },
  {
   "cell_type": "code",
   "execution_count": null,
   "metadata": {},
   "outputs": [],
   "source": [
    "# Read heart rate\n",
    "# Save image\n",
    "# Read image and convert to grayscale and save again\n",
    "\n",
    "count = 0\n",
    "n_count, abn_count = 0, 0    \n",
    "temp_path = os.path.join(ROOT_DIR, \"datasets\", \"mit-bih-ad-images\", \"temp.png\")\n",
    "\n",
    "plt.figure(frameon=False)\n",
    "\n",
    "for x, y in zip(x, y):\n",
    "    \n",
    "    plt.plot(x)\n",
    "    plt.xticks([]), plt.yticks([])\n",
    "    for spine in plt.gca().spines.values():\n",
    "        spine.set_visible(False)\n",
    "    plt.tight_layout()\n",
    "    plt.savefig(temp_path)\n",
    "    plt.clf()\n",
    "                \n",
    "    img = cv2.imread(temp_path, cv2.IMREAD_GRAYSCALE)\n",
    "    y = y[0]\n",
    "    \n",
    "    if y == 1:\n",
    "        # Save in abnormal directory\n",
    "        cv2.imwrite(\"{}/{}.png\".format(abnormal, count), img)\n",
    "        abn_count+=1\n",
    "    else:\n",
    "        # Save in normal directory\n",
    "        cv2.imwrite(\"{}/{}.png\".format(normal, count), img)   \n",
    "        n_count+=1\n",
    "        \n",
    "    img = None\n",
    "    count+=1\n",
    "                \n",
    "print(abn_count, n_count)"
   ]
  },
  {
   "cell_type": "code",
   "execution_count": null,
   "metadata": {},
   "outputs": [],
   "source": [
    "# Load data\n",
    "data = np.load(os.path.join(ROOT_DIR, \"datasets\", \"val_1D.npz\"))\n",
    "x = data['name1']\n",
    "y = data['name2']\n",
    "sym = data['name3']\n",
    "\n",
    "print(x.shape, y.shape, sym.shape)\n",
    "\n",
    "# Dirs\n",
    "normal = os.path.join(ROOT_DIR, \"datasets\", \"mit-bih-ad-images\", \"val\", \"normal\")\n",
    "abnormal = os.path.join(ROOT_DIR, \"datasets\", \"mit-bih-ad-images\", \"val\", \"abnormal\")\n",
    "\n",
    "os.makedirs(normal)\n",
    "os.makedirs(abnormal)\n",
    "\n",
    "values, counts = np.unique(y, return_counts=True)\n",
    "for v,c in zip(values, counts):\n",
    "    print(v,c)"
   ]
  },
  {
   "cell_type": "code",
   "execution_count": null,
   "metadata": {},
   "outputs": [],
   "source": [
    "# Read heart rate\n",
    "# Save image\n",
    "# Read image and convert to grayscale and save again\n",
    "\n",
    "count = 0\n",
    "n_count, abn_count = 0, 0\n",
    "\n",
    "temp_path = os.path.join(ROOT_DIR, \"datasets\", \"mit-bih-ad-images\", \"temp.png\")\n",
    "\n",
    "plt.figure(frameon=False)\n",
    "\n",
    "for x, y in zip(x, y):\n",
    "    \n",
    "    plt.plot(x)\n",
    "    plt.xticks([]), plt.yticks([])\n",
    "    for spine in plt.gca().spines.values():\n",
    "        spine.set_visible(False)\n",
    "    plt.tight_layout()\n",
    "    plt.savefig(temp_path)\n",
    "    plt.clf()\n",
    "                \n",
    "    img = cv2.imread(temp_path, cv2.IMREAD_GRAYSCALE)\n",
    "    y = y[0]\n",
    "    \n",
    "    if y == 1:\n",
    "        # Save in abnormal directory\n",
    "        cv2.imwrite(\"{}/{}.png\".format(abnormal, count), img)\n",
    "        abn_count+=1\n",
    "    else:\n",
    "        # Save in normal directory\n",
    "        cv2.imwrite(\"{}/{}.png\".format(normal, count), img)   \n",
    "        n_count+=1\n",
    "    count+=1\n",
    "                \n",
    "print(abn_count, n_count)"
   ]
  },
  {
   "cell_type": "code",
   "execution_count": null,
   "metadata": {},
   "outputs": [],
   "source": []
  },
  {
   "cell_type": "code",
   "execution_count": null,
   "metadata": {},
   "outputs": [],
   "source": [
    "# Load data\n",
    "data = np.load(os.path.join(ROOT_DIR, \"datasets\", \"test_1D.npz\"))\n",
    "x = data['name1']\n",
    "y = data['name2']\n",
    "sym = data['name3']\n",
    "\n",
    "print(x.shape, y.shape, sym.shape)\n",
    "\n",
    "# Dirs\n",
    "#normal = os.path.join(ROOT_DIR, \"datasets\", \"mit-bih-ad-images\", \"test\", \"normal\")\n",
    "#abnormal = os.path.join(ROOT_DIR, \"datasets\", \"mit-bih-ad-images\", \"test\", \"abnormal\")\n",
    "\n",
    "#os.makedirs(normal)\n",
    "#os.makedirs(abnormal)\n",
    "\n",
    "values, counts = np.unique(y, return_counts=True)\n",
    "for v,c in zip(values, counts):\n",
    "    print(v,c)"
   ]
  },
  {
   "cell_type": "code",
   "execution_count": null,
   "metadata": {},
   "outputs": [],
   "source": [
    "# Read heart rate\n",
    "# Save image\n",
    "# Read image and convert to grayscale and save again\n",
    "\n",
    "count = 0\n",
    "n_count, abn_count = 0, 0\n",
    "\n",
    "temp_path = os.path.join(ROOT_DIR, \"datasets\", \"mit-bih-ad-images\", \"temp.png\")\n",
    "\n",
    "plt.figure(frameon=False)\n",
    "\n",
    "for x, y in zip(x, y):\n",
    "    \n",
    "    plt.plot(x)\n",
    "    plt.xticks([]), plt.yticks([])\n",
    "    for spine in plt.gca().spines.values():\n",
    "        spine.set_visible(False)\n",
    "    plt.tight_layout()\n",
    "    plt.savefig(temp_path)\n",
    "    plt.clf()\n",
    "                \n",
    "    img = cv2.imread(temp_path, cv2.IMREAD_GRAYSCALE)\n",
    "    y = y[0]\n",
    "    \n",
    "    if y == 1:\n",
    "        # Save in abnormal directory\n",
    "        cv2.imwrite(\"{}/{}.png\".format(abnormal, count), img)\n",
    "        abn_count+=1\n",
    "    else:\n",
    "        # Save in normal directory\n",
    "        cv2.imwrite(\"{}/{}.png\".format(normal, count), img)   \n",
    "        n_count+=1\n",
    "    count+=1\n",
    "                \n",
    "print(abn_count, n_count)"
   ]
  },
  {
   "cell_type": "code",
   "execution_count": null,
   "metadata": {},
   "outputs": [],
   "source": []
  }
 ],
 "metadata": {
  "kernelspec": {
   "display_name": "Python 3",
   "language": "python",
   "name": "python3"
  },
  "language_info": {
   "codemirror_mode": {
    "name": "ipython",
    "version": 3
   },
   "file_extension": ".py",
   "mimetype": "text/x-python",
   "name": "python",
   "nbconvert_exporter": "python",
   "pygments_lexer": "ipython3",
   "version": "3.6.10"
  }
 },
 "nbformat": 4,
 "nbformat_minor": 4
}
