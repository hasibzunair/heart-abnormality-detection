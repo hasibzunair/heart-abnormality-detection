{
 "cells": [
  {
   "cell_type": "markdown",
   "metadata": {},
   "source": [
    "### Train Dense model"
   ]
  },
  {
   "cell_type": "code",
   "execution_count": 1,
   "metadata": {},
   "outputs": [
    {
     "name": "stderr",
     "output_type": "stream",
     "text": [
      "Using TensorFlow backend.\n"
     ]
    }
   ],
   "source": [
    "import os \n",
    "import pandas as pd\n",
    "import numpy as np\n",
    "import matplotlib.pyplot as plt\n",
    "import cv2\n",
    "import keras\n",
    "\n",
    "ROOT_DIR = os.path.abspath(\"../\")"
   ]
  },
  {
   "cell_type": "markdown",
   "metadata": {},
   "source": [
    "### Load data"
   ]
  },
  {
   "cell_type": "code",
   "execution_count": 2,
   "metadata": {},
   "outputs": [
    {
     "name": "stdout",
     "output_type": "stream",
     "text": [
      "(60051, 192) (60051, 2)\n",
      "(23925, 192) (23925, 2)\n",
      "(23628, 192) (23628, 2)\n"
     ]
    }
   ],
   "source": [
    "# Load data\n",
    "data = np.load(os.path.join(ROOT_DIR, \"datasets\", \"beats_and_labels.npz\"))\n",
    "x_train = data['name1']\n",
    "y_train = data['name2']\n",
    "x_val = data['name3']\n",
    "y_val = data['name4']\n",
    "x_test = data['name5']\n",
    "y_test = data['name6']\n",
    "\n",
    "y_train = keras.utils.to_categorical(y_train, 2)\n",
    "y_val = keras.utils.to_categorical(y_val, 2)\n",
    "y_test = keras.utils.to_categorical(y_test, 2)\n",
    "\n",
    "print(x_train.shape, y_train.shape)\n",
    "print(x_val.shape, y_val.shape)\n",
    "print(x_test.shape, y_test.shape)"
   ]
  },
  {
   "cell_type": "code",
   "execution_count": 3,
   "metadata": {},
   "outputs": [
    {
     "name": "stdout",
     "output_type": "stream",
     "text": [
      "Model: \"sequential_1\"\n",
      "_________________________________________________________________\n",
      "Layer (type)                 Output Shape              Param #   \n",
      "=================================================================\n",
      "dense_1 (Dense)              (None, 32)                6176      \n",
      "_________________________________________________________________\n",
      "dropout_1 (Dropout)          (None, 32)                0         \n",
      "_________________________________________________________________\n",
      "dense_2 (Dense)              (None, 2)                 66        \n",
      "=================================================================\n",
      "Total params: 6,242\n",
      "Trainable params: 6,242\n",
      "Non-trainable params: 0\n",
      "_________________________________________________________________\n"
     ]
    }
   ],
   "source": [
    "import keras\n",
    "from keras.models import Sequential\n",
    "from keras.layers import Dense, Flatten, Dropout\n",
    "from keras.utils import to_categorical\n",
    "\n",
    "model = Sequential()\n",
    "model.add(Dense(32, activation = 'relu', input_dim = x_train.shape[1]))\n",
    "model.add(Dropout(rate = 0.25))\n",
    "model.add(Dense(2, activation = 'softmax'))\n",
    "\n",
    "# compile the model\n",
    "model.compile(loss='binary_crossentropy',\n",
    "                optimizer = 'adam',\n",
    "                metrics = ['accuracy'])\n",
    "\n",
    "model.summary()"
   ]
  },
  {
   "cell_type": "code",
   "execution_count": 4,
   "metadata": {},
   "outputs": [
    {
     "name": "stdout",
     "output_type": "stream",
     "text": [
      "Train on 60051 samples, validate on 23925 samples\n",
      "Epoch 1/1000\n",
      "60051/60051 [==============================] - 1s 9us/step - loss: 0.4436 - accuracy: 0.8027 - val_loss: 0.2928 - val_accuracy: 0.9097\n",
      "Epoch 2/1000\n",
      "60051/60051 [==============================] - 0s 4us/step - loss: 0.2059 - accuracy: 0.9345 - val_loss: 0.2102 - val_accuracy: 0.9402\n",
      "Epoch 3/1000\n",
      "60051/60051 [==============================] - 0s 4us/step - loss: 0.1448 - accuracy: 0.9611 - val_loss: 0.1856 - val_accuracy: 0.9490\n",
      "Epoch 4/1000\n",
      "60051/60051 [==============================] - 0s 4us/step - loss: 0.1180 - accuracy: 0.9716 - val_loss: 0.1926 - val_accuracy: 0.9450\n",
      "Epoch 5/1000\n",
      "60051/60051 [==============================] - 0s 4us/step - loss: 0.1042 - accuracy: 0.9766 - val_loss: 0.1873 - val_accuracy: 0.9464\n",
      "Epoch 6/1000\n",
      "60051/60051 [==============================] - 0s 4us/step - loss: 0.0929 - accuracy: 0.9789 - val_loss: 0.1692 - val_accuracy: 0.9517\n",
      "Epoch 7/1000\n",
      "60051/60051 [==============================] - 0s 4us/step - loss: 0.0884 - accuracy: 0.9803 - val_loss: 0.1747 - val_accuracy: 0.9535\n",
      "Epoch 8/1000\n",
      "60051/60051 [==============================] - 0s 4us/step - loss: 0.0807 - accuracy: 0.9821 - val_loss: 0.1557 - val_accuracy: 0.9595\n",
      "Epoch 9/1000\n",
      "60051/60051 [==============================] - 0s 4us/step - loss: 0.0785 - accuracy: 0.9826 - val_loss: 0.1388 - val_accuracy: 0.9664\n",
      "Epoch 10/1000\n",
      "60051/60051 [==============================] - 0s 4us/step - loss: 0.0721 - accuracy: 0.9834 - val_loss: 0.1461 - val_accuracy: 0.9641\n",
      "Epoch 11/1000\n",
      "60051/60051 [==============================] - 0s 4us/step - loss: 0.0694 - accuracy: 0.9844 - val_loss: 0.1454 - val_accuracy: 0.9635\n",
      "Epoch 12/1000\n",
      "60051/60051 [==============================] - 0s 4us/step - loss: 0.0687 - accuracy: 0.9852 - val_loss: 0.1442 - val_accuracy: 0.9624\n",
      "Epoch 13/1000\n",
      "60051/60051 [==============================] - 0s 5us/step - loss: 0.0656 - accuracy: 0.9853 - val_loss: 0.1326 - val_accuracy: 0.9699\n",
      "Epoch 14/1000\n",
      "60051/60051 [==============================] - 0s 4us/step - loss: 0.0641 - accuracy: 0.9852 - val_loss: 0.1576 - val_accuracy: 0.9511\n",
      "Epoch 15/1000\n",
      "60051/60051 [==============================] - 0s 4us/step - loss: 0.0618 - accuracy: 0.9861 - val_loss: 0.1442 - val_accuracy: 0.9652\n",
      "Epoch 16/1000\n",
      "60051/60051 [==============================] - 0s 4us/step - loss: 0.0602 - accuracy: 0.9866 - val_loss: 0.1494 - val_accuracy: 0.9624\n",
      "Epoch 17/1000\n",
      "60051/60051 [==============================] - 0s 4us/step - loss: 0.0584 - accuracy: 0.9866 - val_loss: 0.1478 - val_accuracy: 0.9603\n",
      "Epoch 18/1000\n",
      "60051/60051 [==============================] - 0s 4us/step - loss: 0.0583 - accuracy: 0.9872 - val_loss: 0.1522 - val_accuracy: 0.9624\n",
      "Epoch 19/1000\n",
      "60051/60051 [==============================] - 0s 5us/step - loss: 0.0549 - accuracy: 0.9869 - val_loss: 0.1393 - val_accuracy: 0.9630\n",
      "Epoch 20/1000\n",
      "60051/60051 [==============================] - 0s 4us/step - loss: 0.0556 - accuracy: 0.9872 - val_loss: 0.1378 - val_accuracy: 0.9685\n",
      "Epoch 21/1000\n",
      "60051/60051 [==============================] - 0s 4us/step - loss: 0.0564 - accuracy: 0.9872 - val_loss: 0.1427 - val_accuracy: 0.9656\n",
      "Epoch 22/1000\n",
      "60051/60051 [==============================] - 0s 4us/step - loss: 0.0533 - accuracy: 0.9875 - val_loss: 0.1700 - val_accuracy: 0.9549\n",
      "Epoch 23/1000\n",
      "60051/60051 [==============================] - 0s 4us/step - loss: 0.0558 - accuracy: 0.9873 - val_loss: 0.1485 - val_accuracy: 0.9664\n"
     ]
    },
    {
     "data": {
      "text/plain": [
       "<keras.callbacks.callbacks.History at 0x7ff55c030898>"
      ]
     },
     "execution_count": 4,
     "metadata": {},
     "output_type": "execute_result"
    }
   ],
   "source": [
    "# Define callbacks.\n",
    "early_stopping_cb = keras.callbacks.EarlyStopping(monitor=\"val_loss\", patience=10, restore_best_weights=True)\n",
    "\n",
    "model.fit(x_train, y_train,\n",
    "            validation_data=(x_val, y_val),\n",
    "            batch_size = 512, \n",
    "            epochs= 1000, \n",
    "            verbose = 1,\n",
    "            callbacks=[early_stopping_cb])"
   ]
  },
  {
   "cell_type": "code",
   "execution_count": 5,
   "metadata": {},
   "outputs": [
    {
     "name": "stdout",
     "output_type": "stream",
     "text": [
      "23925/23925 [==============================] - 0s 10us/step\n"
     ]
    }
   ],
   "source": [
    "y_pred = model.predict(x_val,verbose = 1)"
   ]
  },
  {
   "cell_type": "code",
   "execution_count": 6,
   "metadata": {},
   "outputs": [],
   "source": [
    "def show_results(y, yhat):\n",
    "    \"\"\"\n",
    "    y and yhat are 2D arrays of shape (N, 2)\n",
    "    \"\"\"\n",
    "    # Flatten predictions\n",
    "    yf = np.array([np.argmax(pred) for pred in y]) \n",
    "    yhatf = np.array([np.argmax(pred) for pred in yhat]) \n",
    "    \n",
    "    from sklearn.metrics import accuracy_score\n",
    "    # Accuracy\n",
    "    acc = accuracy_score(yf, yhatf) * 100\n",
    "    print(\"Accuracy : {:.2f}\".format(acc))\n",
    "\n",
    "    from sklearn.metrics import classification_report\n",
    "\n",
    "    # Classification report\n",
    "    target_names = ['0', '1']\n",
    "    print(\"Classification report: \")\n",
    "    print(classification_report(yf, yhatf, target_names=target_names, digits=4))\n",
    "    \n",
    "    #from sklearn.metrics import roc_auc_score\n",
    "    #print('Area under ROC curve :{:.3f}'.format(roc_auc_score(y, yhat)))\n",
    "    \n",
    "    \n",
    "    from sklearn.metrics import roc_curve, auc\n",
    "    # https://github.com/hasibzunair/uniformizing-3D/blob/master/graph_compare.ipynb\n",
    "\n",
    "    # Compute ROC curve and ROC area for each class\n",
    "    fpr = dict()\n",
    "    tpr = dict()\n",
    "    roc_auc = dict()\n",
    "    for i in range(2):\n",
    "        fpr[i], tpr[i], _ = roc_curve(y[:, i], yhat[:, i])\n",
    "        roc_auc[i] = auc(fpr[i], tpr[i])\n",
    "\n",
    "\n",
    "    # Compute micro-average ROC curve and ROC area\n",
    "    cls = 1 # class name\n",
    "    fpr[\"micro\"], tpr[\"micro\"], _ = roc_curve(y.ravel(), yhat.ravel())\n",
    "    roc_auc[\"micro\"] = auc(fpr[\"micro\"], tpr[\"micro\"])\n",
    "\n",
    "    #print(roc_auc)\n",
    "    print(\"Area under the ROC curve for positive class: {:.3f}\".format(roc_auc[cls]))\n",
    "    \n",
    "    plt.figure()\n",
    "    lw = 2 # line width\n",
    "    plt.plot(fpr[cls], tpr[cls], color='darkorange', lw=lw, label='ROC curve (area = {:.3f})'.format(roc_auc[cls]))\n",
    "    plt.plot([0, 1], [0, 1], color='navy', lw=lw, linestyle='--')\n",
    "    plt.xlim([0.0, 1.0])\n",
    "    plt.ylim([0.0, 1.05])\n",
    "    plt.xlabel('False Positive Rate')\n",
    "    plt.ylabel('True Positive Rate')\n",
    "    plt.title('Receiver operating characteristic example')\n",
    "    plt.legend(loc=\"lower right\")\n",
    "    plt.show()\n"
   ]
  },
  {
   "cell_type": "code",
   "execution_count": 7,
   "metadata": {},
   "outputs": [
    {
     "name": "stdout",
     "output_type": "stream",
     "text": [
      "Accuracy : 96.99\n",
      "Classification report: \n",
      "              precision    recall  f1-score   support\n",
      "\n",
      "           0     0.9702    0.9874    0.9787     16777\n",
      "           1     0.9691    0.9289    0.9486      7148\n",
      "\n",
      "    accuracy                         0.9699     23925\n",
      "   macro avg     0.9697    0.9581    0.9637     23925\n",
      "weighted avg     0.9699    0.9699    0.9697     23925\n",
      "\n",
      "Area under the ROC curve for positive class: 0.982\n"
     ]
    },
    {
     "data": {
      "image/png": "[encoded data removed]",
      "text/plain": [
       "<Figure size 432x288 with 1 Axes>"
      ]
     },
     "metadata": {
      "needs_background": "light"
     },
     "output_type": "display_data"
    }
   ],
   "source": [
    "show_results(y_val, y_pred)"
   ]
  },
  {
   "cell_type": "code",
   "execution_count": 8,
   "metadata": {},
   "outputs": [
    {
     "name": "stdout",
     "output_type": "stream",
     "text": [
      "23628/23628 [==============================] - 0s 11us/step\n"
     ]
    }
   ],
   "source": [
    "y_pred = model.predict(x_test,verbose = 1)\n",
    "show_results(y_test, y_pred)"
   ]
  },
  {
   "cell_type": "code",
   "execution_count": null,
   "metadata": {},
   "outputs": [],
   "source": []
  },
  {
   "cell_type": "code",
   "execution_count": null,
   "metadata": {},
   "outputs": [],
   "source": []
  },
  {
   "cell_type": "code",
   "execution_count": 13,
   "metadata": {},
   "outputs": [
    {
     "name": "stdout",
     "output_type": "stream",
     "text": [
      "Model: \"sequential_3\"\n",
      "_________________________________________________________________\n",
      "Layer (type)                 Output Shape              Param #   \n",
      "=================================================================\n",
      "conv1d_2 (Conv1D)            (None, 188, 256)          1536      \n",
      "_________________________________________________________________\n",
      "dropout_3 (Dropout)          (None, 188, 256)          0         \n",
      "_________________________________________________________________\n",
      "flatten_2 (Flatten)          (None, 48128)             0         \n",
      "_________________________________________________________________\n",
      "dense_4 (Dense)              (None, 2)                 96258     \n",
      "=================================================================\n",
      "Total params: 97,794\n",
      "Trainable params: 97,794\n",
      "Non-trainable params: 0\n",
      "_________________________________________________________________\n"
     ]
    }
   ],
   "source": [
    "from keras.layers import Conv1D\n",
    "\n",
    "model = Sequential()\n",
    "model.add(Conv1D(filters = 256, kernel_size = 5, activation = 'relu', input_shape = (192,1)))\n",
    "model.add(Dropout(rate = 0.25))\n",
    "model.add(Flatten())\n",
    "model.add(Dense(2, activation = 'softmax'))\n",
    "\n",
    "# compile the model - use categorical crossentropy, and the adam optimizer\n",
    "model.compile(loss = 'binary_crossentropy',\n",
    "                optimizer = 'adam',\n",
    "                metrics = ['accuracy'])\n",
    "\n",
    "model.summary()"
   ]
  },
  {
   "cell_type": "code",
   "execution_count": 21,
   "metadata": {},
   "outputs": [
    {
     "name": "stdout",
     "output_type": "stream",
     "text": [
      "(60051, 192, 1)\n",
      "(23925, 192, 1)\n",
      "(23628, 192, 1)\n"
     ]
    }
   ],
   "source": [
    "# Create batch axis \n",
    "x_train_cnn = np.reshape(x_train, (x_train.shape[0], x_train.shape[1], 1))\n",
    "x_val_cnn = np.reshape(x_val, (x_val.shape[0], x_val.shape[1], 1))\n",
    "x_test_cnn = np.reshape(x_test, (x_test.shape[0], x_test.shape[1], 1))\n",
    "\n",
    "print(x_train_cnn.shape)\n",
    "print(x_val_cnn.shape)\n",
    "print(x_test_cnn.shape)"
   ]
  },
  {
   "cell_type": "code",
   "execution_count": 19,
   "metadata": {},
   "outputs": [
    {
     "name": "stdout",
     "output_type": "stream",
     "text": [
      "Train on 60051 samples, validate on 23925 samples\n",
      "Epoch 1/1000\n",
      "60051/60051 [==============================] - 1s 19us/step - loss: 0.0601 - accuracy: 0.9854 - val_loss: 0.2794 - val_accuracy: 0.9240\n",
      "Epoch 2/1000\n",
      "60051/60051 [==============================] - 1s 20us/step - loss: 0.0604 - accuracy: 0.9846 - val_loss: 0.3073 - val_accuracy: 0.9165\n",
      "Epoch 3/1000\n",
      "60051/60051 [==============================] - 1s 20us/step - loss: 0.0601 - accuracy: 0.9843 - val_loss: 0.2961 - val_accuracy: 0.9291\n",
      "Epoch 4/1000\n",
      "60051/60051 [==============================] - 1s 20us/step - loss: 0.0576 - accuracy: 0.9856 - val_loss: 0.2775 - val_accuracy: 0.9313\n",
      "Epoch 5/1000\n",
      "60051/60051 [==============================] - 1s 21us/step - loss: 0.0572 - accuracy: 0.9856 - val_loss: 0.4037 - val_accuracy: 0.8881\n",
      "Epoch 6/1000\n",
      "60051/60051 [==============================] - 1s 20us/step - loss: 0.0582 - accuracy: 0.9849 - val_loss: 0.2779 - val_accuracy: 0.9320\n",
      "Epoch 7/1000\n",
      "60051/60051 [==============================] - 1s 21us/step - loss: 0.0589 - accuracy: 0.9850 - val_loss: 0.3045 - val_accuracy: 0.9166\n",
      "Epoch 8/1000\n",
      "60051/60051 [==============================] - 1s 20us/step - loss: 0.0567 - accuracy: 0.9858 - val_loss: 0.3327 - val_accuracy: 0.9032\n",
      "Epoch 9/1000\n",
      "60051/60051 [==============================] - 1s 20us/step - loss: 0.0560 - accuracy: 0.9859 - val_loss: 0.3614 - val_accuracy: 0.8770\n",
      "Epoch 10/1000\n",
      "60051/60051 [==============================] - 1s 20us/step - loss: 0.0572 - accuracy: 0.9853 - val_loss: 0.3367 - val_accuracy: 0.9042\n",
      "Epoch 11/1000\n",
      "60051/60051 [==============================] - 1s 20us/step - loss: 0.0560 - accuracy: 0.9852 - val_loss: 0.2529 - val_accuracy: 0.9427\n",
      "Epoch 12/1000\n",
      "60051/60051 [==============================] - 1s 21us/step - loss: 0.0551 - accuracy: 0.9859 - val_loss: 0.2803 - val_accuracy: 0.9319\n",
      "Epoch 13/1000\n",
      "60051/60051 [==============================] - 1s 22us/step - loss: 0.0547 - accuracy: 0.9858 - val_loss: 0.3118 - val_accuracy: 0.9129\n",
      "Epoch 14/1000\n",
      "60051/60051 [==============================] - 1s 20us/step - loss: 0.0540 - accuracy: 0.9862 - val_loss: 0.3592 - val_accuracy: 0.9022\n",
      "Epoch 15/1000\n",
      "60051/60051 [==============================] - 1s 20us/step - loss: 0.0543 - accuracy: 0.9862 - val_loss: 0.2809 - val_accuracy: 0.9280\n",
      "Epoch 16/1000\n",
      "60051/60051 [==============================] - 1s 21us/step - loss: 0.0535 - accuracy: 0.9860 - val_loss: 0.2875 - val_accuracy: 0.9283\n",
      "Epoch 17/1000\n",
      "60051/60051 [==============================] - 1s 20us/step - loss: 0.0549 - accuracy: 0.9858 - val_loss: 0.3785 - val_accuracy: 0.8978\n",
      "Epoch 18/1000\n",
      "60051/60051 [==============================] - 1s 21us/step - loss: 0.0554 - accuracy: 0.9856 - val_loss: 0.2553 - val_accuracy: 0.9395\n",
      "Epoch 19/1000\n",
      "60051/60051 [==============================] - 1s 20us/step - loss: 0.0530 - accuracy: 0.9863 - val_loss: 0.3709 - val_accuracy: 0.8977\n",
      "Epoch 20/1000\n",
      "60051/60051 [==============================] - 1s 20us/step - loss: 0.0524 - accuracy: 0.9863 - val_loss: 0.3034 - val_accuracy: 0.9233\n",
      "Epoch 21/1000\n",
      "60051/60051 [==============================] - 1s 20us/step - loss: 0.0533 - accuracy: 0.9864 - val_loss: 0.3836 - val_accuracy: 0.8980\n"
     ]
    },
    {
     "data": {
      "text/plain": [
       "<keras.callbacks.callbacks.History at 0x7ff4b4035ac8>"
      ]
     },
     "execution_count": 19,
     "metadata": {},
     "output_type": "execute_result"
    }
   ],
   "source": [
    "# Define callbacks.\n",
    "early_stopping_cb = keras.callbacks.EarlyStopping(monitor=\"val_loss\", patience=10, restore_best_weights=True)\n",
    "\n",
    "model.fit(x_train_cnn, y_train,\n",
    "            validation_data=(x_val_cnn, y_val),\n",
    "            batch_size = 512, \n",
    "            epochs= 1000, \n",
    "            verbose = 1,\n",
    "            callbacks=[early_stopping_cb])"
   ]
  },
  {
   "cell_type": "code",
   "execution_count": 22,
   "metadata": {},
   "outputs": [
    {
     "name": "stdout",
     "output_type": "stream",
     "text": [
      "23925/23925 [==============================] - 0s 19us/step\n",
      "Accuracy : 94.27\n",
      "Classification report: \n",
      "              precision    recall  f1-score   support\n",
      "\n",
      "           0     0.9300    0.9930    0.9605     16777\n",
      "           1     0.9805    0.8246    0.8958      7148\n",
      "\n",
      "    accuracy                         0.9427     23925\n",
      "   macro avg     0.9553    0.9088    0.9281     23925\n",
      "weighted avg     0.9451    0.9427    0.9412     23925\n",
      "\n",
      "Area under the ROC curve for positive class: 0.942\n"
     ]
    },
    {
     "data": {
      "image/png": "[encoded data removed]",
      "text/plain": [
       "<Figure size 432x288 with 1 Axes>"
      ]
     },
     "metadata": {
      "needs_background": "light"
     },
     "output_type": "display_data"
    }
   ],
   "source": [
    "y_pred = model.predict(x_val_cnn, verbose = 1)\n",
    "show_results(y_val, y_pred)"
   ]
  },
  {
   "cell_type": "code",
   "execution_count": 23,
   "metadata": {},
   "outputs": [
    {
     "name": "stdout",
     "output_type": "stream",
     "text": [
      "23628/23628 [==============================] - 0s 19us/step\n",
      "Accuracy : 90.29\n",
      "Classification report: \n",
      "              precision    recall  f1-score   support\n",
      "\n",
      "           0     0.9591    0.9077    0.9327     17510\n",
      "           1     0.7709    0.8893    0.8259      6118\n",
      "\n",
      "    accuracy                         0.9029     23628\n",
      "   macro avg     0.8650    0.8985    0.8793     23628\n",
      "weighted avg     0.9104    0.9029    0.9050     23628\n",
      "\n",
      "Area under the ROC curve for positive class: 0.938\n"
     ]
    },
    {
     "data": {
      "image/png": "[encoded data removed]",
      "text/plain": [
       "<Figure size 432x288 with 1 Axes>"
      ]
     },
     "metadata": {
      "needs_background": "light"
     },
     "output_type": "display_data"
    }
   ],
   "source": [
    "y_pred = model.predict(x_test_cnn, verbose = 1)\n",
    "show_results(y_test, y_pred)"
   ]
  },
  {
   "cell_type": "code",
   "execution_count": null,
   "metadata": {},
   "outputs": [],
   "source": []
  },
  {
   "cell_type": "code",
   "execution_count": null,
   "metadata": {},
   "outputs": [],
   "source": []
  },
  {
   "cell_type": "code",
   "execution_count": null,
   "metadata": {},
   "outputs": [],
   "source": []
  },
  {
   "cell_type": "markdown",
   "metadata": {},
   "source": [
    "https://www.kaggle.com/gregoiredc/arrhythmia-on-ecg-classification-using-cnn"
   ]
  },
  {
   "cell_type": "code",
   "execution_count": 25,
   "metadata": {},
   "outputs": [
    {
     "name": "stdout",
     "output_type": "stream",
     "text": [
      "Model: \"model_2\"\n",
      "_________________________________________________________________\n",
      "Layer (type)                 Output Shape              Param #   \n",
      "=================================================================\n",
      "inputs_cnn (InputLayer)      (None, 192, 1)            0         \n",
      "_________________________________________________________________\n",
      "conv1d_6 (Conv1D)            (None, 187, 64)           448       \n",
      "_________________________________________________________________\n",
      "batch_normalization_4 (Batch (None, 187, 64)           256       \n",
      "_________________________________________________________________\n",
      "max_pooling1d_4 (MaxPooling1 (None, 94, 64)            0         \n",
      "_________________________________________________________________\n",
      "conv1d_7 (Conv1D)            (None, 92, 64)            12352     \n",
      "_________________________________________________________________\n",
      "batch_normalization_5 (Batch (None, 92, 64)            256       \n",
      "_________________________________________________________________\n",
      "max_pooling1d_5 (MaxPooling1 (None, 46, 64)            0         \n",
      "_________________________________________________________________\n",
      "conv1d_8 (Conv1D)            (None, 44, 64)            12352     \n",
      "_________________________________________________________________\n",
      "batch_normalization_6 (Batch (None, 44, 64)            256       \n",
      "_________________________________________________________________\n",
      "max_pooling1d_6 (MaxPooling1 (None, 22, 64)            0         \n",
      "_________________________________________________________________\n",
      "flatten_4 (Flatten)          (None, 1408)              0         \n",
      "_________________________________________________________________\n",
      "dense_7 (Dense)              (None, 64)                90176     \n",
      "_________________________________________________________________\n",
      "dense_8 (Dense)              (None, 32)                2080      \n",
      "_________________________________________________________________\n",
      "main_output (Dense)          (None, 2)                 66        \n",
      "=================================================================\n",
      "Total params: 118,242\n",
      "Trainable params: 117,858\n",
      "Non-trainable params: 384\n",
      "_________________________________________________________________\n"
     ]
    }
   ],
   "source": [
    "from keras.layers import Dense, Convolution1D, MaxPool1D, Flatten, Dropout\n",
    "from keras.layers import Input\n",
    "from keras.models import Model\n",
    "from keras.layers.normalization import BatchNormalization\n",
    "import keras\n",
    "from keras.callbacks import EarlyStopping, ModelCheckpoint\n",
    "\n",
    "\n",
    "def network():\n",
    "    im_shape=(x_train_cnn.shape[1],1)\n",
    "    inputs_cnn=Input(shape=(im_shape), name='inputs_cnn')\n",
    "    conv1_1=Convolution1D(64, (6), activation='relu', input_shape=im_shape)(inputs_cnn)\n",
    "    conv1_1=BatchNormalization()(conv1_1)\n",
    "    pool1=MaxPool1D(pool_size=(3), strides=(2), padding=\"same\")(conv1_1)\n",
    "    conv2_1=Convolution1D(64, (3), activation='relu', input_shape=im_shape)(pool1)\n",
    "    conv2_1=BatchNormalization()(conv2_1)\n",
    "    pool2=MaxPool1D(pool_size=(2), strides=(2), padding=\"same\")(conv2_1)\n",
    "    conv3_1=Convolution1D(64, (3), activation='relu', input_shape=im_shape)(pool2)\n",
    "    conv3_1=BatchNormalization()(conv3_1)\n",
    "    pool3=MaxPool1D(pool_size=(2), strides=(2), padding=\"same\")(conv3_1)\n",
    "    flatten=Flatten()(pool3)\n",
    "    dense_end1 = Dense(64, activation='relu')(flatten)\n",
    "    dense_end2 = Dense(32, activation='relu')(dense_end1)\n",
    "    main_output = Dense(2, activation='softmax', name='main_output')(dense_end2)\n",
    "    \n",
    "    model = Model(inputs= inputs_cnn, outputs=main_output)\n",
    "    model.compile(optimizer='adam', loss='binary_crossentropy',metrics = ['accuracy'])\n",
    "    \n",
    "    return model\n",
    "\n",
    "\n",
    "model = network()\n",
    "model.summary()"
   ]
  },
  {
   "cell_type": "code",
   "execution_count": 26,
   "metadata": {},
   "outputs": [
    {
     "name": "stdout",
     "output_type": "stream",
     "text": [
      "Train on 60051 samples, validate on 23925 samples\n",
      "Epoch 1/1000\n",
      "60051/60051 [==============================] - 2s 37us/step - loss: 0.0825 - accuracy: 0.9713 - val_loss: 0.5883 - val_accuracy: 0.7037\n",
      "Epoch 2/1000\n",
      "60051/60051 [==============================] - 1s 22us/step - loss: 0.0280 - accuracy: 0.9924 - val_loss: 0.4746 - val_accuracy: 0.7492\n",
      "Epoch 3/1000\n",
      "60051/60051 [==============================] - 1s 23us/step - loss: 0.0220 - accuracy: 0.9939 - val_loss: 0.5645 - val_accuracy: 0.7806\n",
      "Epoch 4/1000\n",
      "60051/60051 [==============================] - 1s 22us/step - loss: 0.0182 - accuracy: 0.9947 - val_loss: 0.4134 - val_accuracy: 0.8513\n",
      "Epoch 5/1000\n",
      "60051/60051 [==============================] - 1s 24us/step - loss: 0.0148 - accuracy: 0.9954 - val_loss: 0.2485 - val_accuracy: 0.9037\n",
      "Epoch 6/1000\n",
      "60051/60051 [==============================] - 1s 21us/step - loss: 0.0141 - accuracy: 0.9959 - val_loss: 0.2007 - val_accuracy: 0.9299\n",
      "Epoch 7/1000\n",
      "60051/60051 [==============================] - 1s 21us/step - loss: 0.0127 - accuracy: 0.9961 - val_loss: 0.2337 - val_accuracy: 0.9229\n",
      "Epoch 8/1000\n",
      "60051/60051 [==============================] - 1s 22us/step - loss: 0.0118 - accuracy: 0.9965 - val_loss: 0.7597 - val_accuracy: 0.7535\n",
      "Epoch 9/1000\n",
      "60051/60051 [==============================] - 1s 21us/step - loss: 0.0100 - accuracy: 0.9973 - val_loss: 0.2734 - val_accuracy: 0.9132\n",
      "Epoch 10/1000\n",
      "60051/60051 [==============================] - 1s 22us/step - loss: 0.0093 - accuracy: 0.9971 - val_loss: 0.2133 - val_accuracy: 0.9412\n",
      "Epoch 11/1000\n",
      "60051/60051 [==============================] - 1s 23us/step - loss: 0.0079 - accuracy: 0.9974 - val_loss: 0.3042 - val_accuracy: 0.9068\n",
      "Epoch 12/1000\n",
      "60051/60051 [==============================] - 1s 23us/step - loss: 0.0080 - accuracy: 0.9976 - val_loss: 0.9515 - val_accuracy: 0.7330\n",
      "Epoch 13/1000\n",
      "60051/60051 [==============================] - 1s 22us/step - loss: 0.0090 - accuracy: 0.9973 - val_loss: 0.2053 - val_accuracy: 0.9424\n",
      "Epoch 14/1000\n",
      "60051/60051 [==============================] - 1s 23us/step - loss: 0.0078 - accuracy: 0.9975 - val_loss: 0.2086 - val_accuracy: 0.9454\n",
      "Epoch 15/1000\n",
      "60051/60051 [==============================] - 1s 22us/step - loss: 0.0065 - accuracy: 0.9980 - val_loss: 0.2801 - val_accuracy: 0.9180\n",
      "Epoch 16/1000\n",
      "60051/60051 [==============================] - 1s 21us/step - loss: 0.0069 - accuracy: 0.9979 - val_loss: 0.3764 - val_accuracy: 0.8881\n"
     ]
    },
    {
     "data": {
      "text/plain": [
       "<keras.callbacks.callbacks.History at 0x7ff498279c88>"
      ]
     },
     "execution_count": 26,
     "metadata": {},
     "output_type": "execute_result"
    }
   ],
   "source": [
    "# Define callbacks.\n",
    "early_stopping_cb = keras.callbacks.EarlyStopping(monitor=\"val_loss\", patience=10, restore_best_weights=True)\n",
    "\n",
    "model.fit(x_train_cnn, y_train,\n",
    "            validation_data=(x_val_cnn, y_val),\n",
    "            batch_size = 512, \n",
    "            epochs= 1000, \n",
    "            verbose = 1,\n",
    "            callbacks=[early_stopping_cb])"
   ]
  },
  {
   "cell_type": "code",
   "execution_count": 27,
   "metadata": {},
   "outputs": [
    {
     "name": "stdout",
     "output_type": "stream",
     "text": [
      "23925/23925 [==============================] - 1s 35us/step\n",
      "Accuracy : 92.99\n",
      "Classification report: \n",
      "              precision    recall  f1-score   support\n",
      "\n",
      "           0     0.9394    0.9622    0.9506     16777\n",
      "           1     0.9058    0.8542    0.8793      7148\n",
      "\n",
      "    accuracy                         0.9299     23925\n",
      "   macro avg     0.9226    0.9082    0.9149     23925\n",
      "weighted avg     0.9293    0.9299    0.9293     23925\n",
      "\n",
      "Area under the ROC curve for positive class: 0.970\n"
     ]
    },
    {
     "data": {
      "image/png": "[encoded data removed]",
      "text/plain": [
       "<Figure size 432x288 with 1 Axes>"
      ]
     },
     "metadata": {
      "needs_background": "light"
     },
     "output_type": "display_data"
    }
   ],
   "source": [
    "y_pred = model.predict(x_val_cnn, verbose = 1)\n",
    "show_results(y_val, y_pred)"
   ]
  },
  {
   "cell_type": "code",
   "execution_count": 28,
   "metadata": {},
   "outputs": [
    {
     "name": "stdout",
     "output_type": "stream",
     "text": [
      "23628/23628 [==============================] - 1s 36us/step\n",
      "Accuracy : 69.26\n",
      "Classification report: \n",
      "              precision    recall  f1-score   support\n",
      "\n",
      "           0     0.8545    0.7052    0.7727     17510\n",
      "           1     0.4376    0.6564    0.5251      6118\n",
      "\n",
      "    accuracy                         0.6926     23628\n",
      "   macro avg     0.6461    0.6808    0.6489     23628\n",
      "weighted avg     0.7466    0.6926    0.7086     23628\n",
      "\n",
      "Area under the ROC curve for positive class: 0.782\n"
     ]
    },
    {
     "data": {
      "image/png": "[encoded data removed]",
      "text/plain": [
       "<Figure size 432x288 with 1 Axes>"
      ]
     },
     "metadata": {
      "needs_background": "light"
     },
     "output_type": "display_data"
    }
   ],
   "source": [
    "y_pred = model.predict(x_test_cnn, verbose = 1)\n",
    "show_results(y_test, y_pred)"
   ]
  },
  {
   "cell_type": "code",
   "execution_count": null,
   "metadata": {},
   "outputs": [],
   "source": []
  },
  {
   "cell_type": "markdown",
   "metadata": {},
   "source": []
  },
  {
   "cell_type": "code",
   "execution_count": 29,
   "metadata": {},
   "outputs": [
    {
     "name": "stdout",
     "output_type": "stream",
     "text": [
      "Model: \"model_3\"\n",
      "__________________________________________________________________________________________________\n",
      "Layer (type)                    Output Shape         Param #     Connected to                     \n",
      "==================================================================================================\n",
      "input_1 (InputLayer)            (None, 192, 1)       0                                            \n",
      "__________________________________________________________________________________________________\n",
      "conv1d_9 (Conv1D)               (None, 188, 32)      192         input_1[0][0]                    \n",
      "__________________________________________________________________________________________________\n",
      "conv1d_10 (Conv1D)              (None, 188, 32)      5152        conv1d_9[0][0]                   \n",
      "__________________________________________________________________________________________________\n",
      "activation_1 (Activation)       (None, 188, 32)      0           conv1d_10[0][0]                  \n",
      "__________________________________________________________________________________________________\n",
      "conv1d_11 (Conv1D)              (None, 188, 32)      5152        activation_1[0][0]               \n",
      "__________________________________________________________________________________________________\n",
      "add_1 (Add)                     (None, 188, 32)      0           conv1d_11[0][0]                  \n",
      "                                                                 conv1d_9[0][0]                   \n",
      "__________________________________________________________________________________________________\n",
      "activation_4 (Activation)       (None, 188, 32)      0           add_1[0][0]                      \n",
      "__________________________________________________________________________________________________\n",
      "max_pooling1d_8 (MaxPooling1D)  (None, 92, 32)       0           activation_4[0][0]               \n",
      "__________________________________________________________________________________________________\n",
      "conv1d_14 (Conv1D)              (None, 92, 32)       5152        max_pooling1d_8[0][0]            \n",
      "__________________________________________________________________________________________________\n",
      "activation_5 (Activation)       (None, 92, 32)       0           conv1d_14[0][0]                  \n",
      "__________________________________________________________________________________________________\n",
      "conv1d_15 (Conv1D)              (None, 92, 32)       5152        activation_5[0][0]               \n",
      "__________________________________________________________________________________________________\n",
      "add_3 (Add)                     (None, 92, 32)       0           conv1d_15[0][0]                  \n",
      "                                                                 max_pooling1d_8[0][0]            \n",
      "__________________________________________________________________________________________________\n",
      "activation_6 (Activation)       (None, 92, 32)       0           add_3[0][0]                      \n",
      "__________________________________________________________________________________________________\n",
      "max_pooling1d_9 (MaxPooling1D)  (None, 44, 32)       0           activation_6[0][0]               \n",
      "__________________________________________________________________________________________________\n",
      "conv1d_16 (Conv1D)              (None, 44, 32)       5152        max_pooling1d_9[0][0]            \n",
      "__________________________________________________________________________________________________\n",
      "activation_7 (Activation)       (None, 44, 32)       0           conv1d_16[0][0]                  \n",
      "__________________________________________________________________________________________________\n",
      "conv1d_17 (Conv1D)              (None, 44, 32)       5152        activation_7[0][0]               \n",
      "__________________________________________________________________________________________________\n",
      "add_4 (Add)                     (None, 44, 32)       0           conv1d_17[0][0]                  \n",
      "                                                                 max_pooling1d_9[0][0]            \n",
      "__________________________________________________________________________________________________\n",
      "activation_8 (Activation)       (None, 44, 32)       0           add_4[0][0]                      \n",
      "__________________________________________________________________________________________________\n",
      "max_pooling1d_10 (MaxPooling1D) (None, 20, 32)       0           activation_8[0][0]               \n",
      "__________________________________________________________________________________________________\n",
      "conv1d_18 (Conv1D)              (None, 20, 32)       5152        max_pooling1d_10[0][0]           \n",
      "__________________________________________________________________________________________________\n",
      "activation_9 (Activation)       (None, 20, 32)       0           conv1d_18[0][0]                  \n",
      "__________________________________________________________________________________________________\n",
      "conv1d_19 (Conv1D)              (None, 20, 32)       5152        activation_9[0][0]               \n",
      "__________________________________________________________________________________________________\n",
      "add_5 (Add)                     (None, 20, 32)       0           conv1d_19[0][0]                  \n",
      "                                                                 max_pooling1d_10[0][0]           \n",
      "__________________________________________________________________________________________________\n",
      "activation_10 (Activation)      (None, 20, 32)       0           add_5[0][0]                      \n",
      "__________________________________________________________________________________________________\n",
      "max_pooling1d_11 (MaxPooling1D) (None, 8, 32)        0           activation_10[0][0]              \n",
      "__________________________________________________________________________________________________\n",
      "flatten_5 (Flatten)             (None, 256)          0           max_pooling1d_11[0][0]           \n",
      "__________________________________________________________________________________________________\n",
      "dense_9 (Dense)                 (None, 32)           8224        flatten_5[0][0]                  \n",
      "__________________________________________________________________________________________________\n",
      "activation_11 (Activation)      (None, 32)           0           dense_9[0][0]                    \n",
      "__________________________________________________________________________________________________\n",
      "dense_10 (Dense)                (None, 32)           1056        activation_11[0][0]              \n",
      "__________________________________________________________________________________________________\n",
      "dense_11 (Dense)                (None, 2)            66          dense_10[0][0]                   \n",
      "==================================================================================================\n",
      "Total params: 50,754\n",
      "Trainable params: 50,754\n",
      "Non-trainable params: 0\n",
      "__________________________________________________________________________________________________\n"
     ]
    }
   ],
   "source": [
    "from keras.models import Model\n",
    "from keras.layers import Input, Dense, Conv1D, MaxPooling1D, Add, Flatten, Activation\n",
    "from keras import backend as K\n",
    "from keras.optimizers import Adam\n",
    "\n",
    "\n",
    "def network2():\n",
    "    \"\"\"Implementation of https://arxiv.org/pdf/1805.00794.pdf\"\"\"\n",
    "    \n",
    "    n_obs, feature, depth = x_train_cnn.shape\n",
    "    \n",
    "    inp = Input(shape=(feature, depth))\n",
    "    C = Conv1D(filters=32, kernel_size=5, strides=1)(inp)\n",
    "\n",
    "    C11 = Conv1D(filters=32, kernel_size=5, strides=1, padding='same')(C)\n",
    "    A11 = Activation(\"relu\")(C11)\n",
    "    C12 = Conv1D(filters=32, kernel_size=5, strides=1, padding='same')(A11)\n",
    "    S11 = Add()([C12, C])\n",
    "    A12 = Activation(\"relu\")(S11)\n",
    "    M11 = MaxPooling1D(pool_size=5, strides=2)(A12)\n",
    "\n",
    "\n",
    "    C21 = Conv1D(filters=32, kernel_size=5, strides=1, padding='same')(M11)\n",
    "    A21 = Activation(\"relu\")(C21)\n",
    "    C22 = Conv1D(filters=32, kernel_size=5, strides=1, padding='same')(A21)\n",
    "    S21 = Add()([C22, M11])\n",
    "    A22 = Activation(\"relu\")(S11)\n",
    "    M21 = MaxPooling1D(pool_size=5, strides=2)(A22)\n",
    "\n",
    "\n",
    "    C31 = Conv1D(filters=32, kernel_size=5, strides=1, padding='same')(M21)\n",
    "    A31 = Activation(\"relu\")(C31)\n",
    "    C32 = Conv1D(filters=32, kernel_size=5, strides=1, padding='same')(A31)\n",
    "    S31 = Add()([C32, M21])\n",
    "    A32 = Activation(\"relu\")(S31)\n",
    "    M31 = MaxPooling1D(pool_size=5, strides=2)(A32)\n",
    "\n",
    "\n",
    "    C41 = Conv1D(filters=32, kernel_size=5, strides=1, padding='same')(M31)\n",
    "    A41 = Activation(\"relu\")(C41)\n",
    "    C42 = Conv1D(filters=32, kernel_size=5, strides=1, padding='same')(A41)\n",
    "    S41 = Add()([C42, M31])\n",
    "    A42 = Activation(\"relu\")(S41)\n",
    "    M41 = MaxPooling1D(pool_size=5, strides=2)(A42)\n",
    "\n",
    "\n",
    "    C51 = Conv1D(filters=32, kernel_size=5, strides=1, padding='same')(M41)\n",
    "    A51 = Activation(\"relu\")(C51)\n",
    "    C52 = Conv1D(filters=32, kernel_size=5, strides=1, padding='same')(A51)\n",
    "    S51 = Add()([C52, M41])\n",
    "    A52 = Activation(\"relu\")(S51)\n",
    "    M51 = MaxPooling1D(pool_size=5, strides=2)(A52)\n",
    "\n",
    "    F1 = Flatten()(M51)\n",
    "\n",
    "    D1 = Dense(32)(F1)\n",
    "    A6 = Activation(\"relu\")(D1)\n",
    "    D2 = Dense(32)(A6)\n",
    "    D3 = Dense(2, activation='softmax')(D2)\n",
    "\n",
    "    model = Model(inputs=inp, outputs=D3)\n",
    "    model.compile(optimizer='adam', loss='binary_crossentropy',metrics = ['accuracy'])\n",
    "    \n",
    "    return model\n",
    "\n",
    "model = network2()\n",
    "model.summary()"
   ]
  },
  {
   "cell_type": "code",
   "execution_count": 30,
   "metadata": {},
   "outputs": [
    {
     "name": "stdout",
     "output_type": "stream",
     "text": [
      "Train on 60051 samples, validate on 23925 samples\n",
      "Epoch 1/1000\n",
      "60051/60051 [==============================] - 2s 40us/step - loss: 0.1687 - accuracy: 0.9389 - val_loss: 0.2511 - val_accuracy: 0.8839\n",
      "Epoch 2/1000\n",
      "60051/60051 [==============================] - 1s 18us/step - loss: 0.0635 - accuracy: 0.9851 - val_loss: 0.1798 - val_accuracy: 0.9350\n",
      "Epoch 3/1000\n",
      "60051/60051 [==============================] - 1s 18us/step - loss: 0.0409 - accuracy: 0.9896 - val_loss: 0.2423 - val_accuracy: 0.9049\n",
      "Epoch 4/1000\n",
      "60051/60051 [==============================] - 1s 18us/step - loss: 0.0416 - accuracy: 0.9892 - val_loss: 0.1471 - val_accuracy: 0.9494\n",
      "Epoch 5/1000\n",
      "60051/60051 [==============================] - 1s 19us/step - loss: 0.0320 - accuracy: 0.9914 - val_loss: 0.2304 - val_accuracy: 0.9253\n",
      "Epoch 6/1000\n",
      "60051/60051 [==============================] - 1s 19us/step - loss: 0.0243 - accuracy: 0.9937 - val_loss: 0.2670 - val_accuracy: 0.9102\n",
      "Epoch 7/1000\n",
      "60051/60051 [==============================] - 1s 19us/step - loss: 0.0222 - accuracy: 0.9938 - val_loss: 0.2769 - val_accuracy: 0.8932\n",
      "Epoch 8/1000\n",
      "60051/60051 [==============================] - 1s 18us/step - loss: 0.0230 - accuracy: 0.9935 - val_loss: 0.3089 - val_accuracy: 0.9257\n",
      "Epoch 9/1000\n",
      "60051/60051 [==============================] - 1s 18us/step - loss: 0.0231 - accuracy: 0.9936 - val_loss: 0.2919 - val_accuracy: 0.8916\n",
      "Epoch 10/1000\n",
      "60051/60051 [==============================] - 1s 19us/step - loss: 0.0180 - accuracy: 0.9949 - val_loss: 0.2086 - val_accuracy: 0.9294\n",
      "Epoch 11/1000\n",
      "60051/60051 [==============================] - 1s 18us/step - loss: 0.0187 - accuracy: 0.9947 - val_loss: 0.3536 - val_accuracy: 0.8582\n",
      "Epoch 12/1000\n",
      "60051/60051 [==============================] - 1s 20us/step - loss: 0.0181 - accuracy: 0.9948 - val_loss: 0.1861 - val_accuracy: 0.9444\n",
      "Epoch 13/1000\n",
      "60051/60051 [==============================] - 1s 18us/step - loss: 0.0172 - accuracy: 0.9950 - val_loss: 0.2067 - val_accuracy: 0.9316\n",
      "Epoch 14/1000\n",
      "60051/60051 [==============================] - 1s 19us/step - loss: 0.0148 - accuracy: 0.9959 - val_loss: 0.1759 - val_accuracy: 0.9422\n"
     ]
    },
    {
     "data": {
      "text/plain": [
       "<keras.callbacks.callbacks.History at 0x7ff4904e1780>"
      ]
     },
     "execution_count": 30,
     "metadata": {},
     "output_type": "execute_result"
    }
   ],
   "source": [
    "# Define callbacks.\n",
    "early_stopping_cb = keras.callbacks.EarlyStopping(monitor=\"val_loss\", patience=10, restore_best_weights=True)\n",
    "\n",
    "model.fit(x_train_cnn, y_train,\n",
    "            validation_data=(x_val_cnn, y_val),\n",
    "            batch_size = 512, \n",
    "            epochs= 1000, \n",
    "            verbose = 1,\n",
    "            callbacks=[early_stopping_cb])"
   ]
  },
  {
   "cell_type": "code",
   "execution_count": 31,
   "metadata": {},
   "outputs": [
    {
     "name": "stdout",
     "output_type": "stream",
     "text": [
      "23925/23925 [==============================] - 1s 35us/step\n",
      "Accuracy : 94.94\n",
      "Classification report: \n",
      "              precision    recall  f1-score   support\n",
      "\n",
      "           0     0.9693    0.9583    0.9637     16777\n",
      "           1     0.9046    0.9287    0.9165      7148\n",
      "\n",
      "    accuracy                         0.9494     23925\n",
      "   macro avg     0.9369    0.9435    0.9401     23925\n",
      "weighted avg     0.9499    0.9494    0.9496     23925\n",
      "\n",
      "Area under the ROC curve for positive class: 0.982\n"
     ]
    },
    {
     "data": {
      "image/png": "[encoded data removed]",
      "text/plain": [
       "<Figure size 432x288 with 1 Axes>"
      ]
     },
     "metadata": {
      "needs_background": "light"
     },
     "output_type": "display_data"
    }
   ],
   "source": [
    "y_pred = model.predict(x_val_cnn, verbose = 1)\n",
    "show_results(y_val, y_pred)"
   ]
  },
  {
   "cell_type": "code",
   "execution_count": 32,
   "metadata": {},
   "outputs": [
    {
     "name": "stdout",
     "output_type": "stream",
     "text": [
      "23628/23628 [==============================] - 1s 31us/step\n",
      "Accuracy : 87.76\n",
      "Classification report: \n",
      "              precision    recall  f1-score   support\n",
      "\n",
      "           0     0.9660    0.8653    0.9129     17510\n",
      "           1     0.7031    0.9127    0.7943      6118\n",
      "\n",
      "    accuracy                         0.8776     23628\n",
      "   macro avg     0.8345    0.8890    0.8536     23628\n",
      "weighted avg     0.8979    0.8776    0.8822     23628\n",
      "\n",
      "Area under the ROC curve for positive class: 0.911\n"
     ]
    },
    {
     "data": {
      "image/png": "[encoded data removed]",
      "text/plain": [
       "<Figure size 432x288 with 1 Axes>"
      ]
     },
     "metadata": {
      "needs_background": "light"
     },
     "output_type": "display_data"
    }
   ],
   "source": [
    "y_pred = model.predict(x_test_cnn, verbose = 1)\n",
    "show_results(y_test, y_pred)"
   ]
  },
  {
   "cell_type": "code",
   "execution_count": null,
   "metadata": {},
   "outputs": [],
   "source": []
  },
  {
   "cell_type": "code",
   "execution_count": null,
   "metadata": {},
   "outputs": [],
   "source": []
  }
 ],
 "metadata": {
  "kernelspec": {
   "display_name": "Python 3",
   "language": "python",
   "name": "python3"
  },
  "language_info": {
   "codemirror_mode": {
    "name": "ipython",
    "version": 3
   },
   "file_extension": ".py",
   "mimetype": "text/x-python",
   "name": "python",
   "nbconvert_exporter": "python",
   "pygments_lexer": "ipython3",
   "version": "3.6.10"
  }
 },
 "nbformat": 4,
 "nbformat_minor": 4
}
