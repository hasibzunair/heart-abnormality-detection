{
 "cells": [
  {
   "cell_type": "markdown",
   "metadata": {},
   "source": [
    "### Train Dense model"
   ]
  },
  {
   "cell_type": "code",
   "execution_count": 1,
   "metadata": {},
   "outputs": [],
   "source": [
    "import os \n",
    "import pandas as pd\n",
    "import numpy as np\n",
    "import matplotlib.pyplot as plt\n",
    "import cv2\n",
    "\n",
    "ROOT_DIR = os.path.abspath(\"../\")"
   ]
  },
  {
   "cell_type": "markdown",
   "metadata": {},
   "source": [
    "### Load data"
   ]
  },
  {
   "cell_type": "code",
   "execution_count": 2,
   "metadata": {},
   "outputs": [
    {
     "name": "stdout",
     "output_type": "stream",
     "text": [
      "(60560, 2160) (60560, 1) 60560\n",
      "(23821, 2160) (23821, 1) 23821\n",
      "(24718, 2160) (24718, 1) 24718\n"
     ]
    }
   ],
   "source": [
    "# Load data\n",
    "data = np.load(os.path.join(ROOT_DIR, \"datasets\", \"train_1D.npz\"))\n",
    "x_train = data['name1']\n",
    "y_train = data['name2']\n",
    "sym_train = data['name3']\n",
    "\n",
    "data = np.load(os.path.join(ROOT_DIR, \"datasets\", \"val_1D.npz\"))\n",
    "x_val = data['name1']\n",
    "y_val = data['name2']\n",
    "sym_val = data['name3']\n",
    "\n",
    "data = np.load(os.path.join(ROOT_DIR, \"datasets\", \"test_1D.npz\"))\n",
    "x_test = data['name1']\n",
    "y_test = data['name2']\n",
    "sym_test = data['name3']\n",
    "\n",
    "print(x_train.shape, y_train.shape, len(sym_train))\n",
    "print(x_val.shape, y_val.shape, len(sym_val))\n",
    "print(x_test.shape, y_test.shape, len(sym_test))"
   ]
  },
  {
   "cell_type": "markdown",
   "metadata": {},
   "source": [
    "### Build model"
   ]
  },
  {
   "cell_type": "code",
   "execution_count": 3,
   "metadata": {},
   "outputs": [
    {
     "name": "stderr",
     "output_type": "stream",
     "text": [
      "Using TensorFlow backend.\n"
     ]
    },
    {
     "name": "stdout",
     "output_type": "stream",
     "text": [
      "Model: \"sequential_1\"\n",
      "_________________________________________________________________\n",
      "Layer (type)                 Output Shape              Param #   \n",
      "=================================================================\n",
      "dense_1 (Dense)              (None, 32)                69152     \n",
      "_________________________________________________________________\n",
      "dropout_1 (Dropout)          (None, 32)                0         \n",
      "_________________________________________________________________\n",
      "dense_2 (Dense)              (None, 1)                 33        \n",
      "=================================================================\n",
      "Total params: 69,185\n",
      "Trainable params: 69,185\n",
      "Non-trainable params: 0\n",
      "_________________________________________________________________\n"
     ]
    }
   ],
   "source": [
    "import keras\n",
    "from keras.models import Sequential\n",
    "from keras.layers import Dense, Flatten, Dropout\n",
    "from keras.utils import to_categorical\n",
    "\n",
    "model = Sequential()\n",
    "model.add(Dense(32, activation = 'relu', input_dim = x_train.shape[1]))\n",
    "model.add(Dropout(rate = 0.25))\n",
    "model.add(Dense(1, activation = 'sigmoid'))\n",
    "\n",
    "# compile the model - use categorical crossentropy, and the adam optimizer\n",
    "model.compile(loss='binary_crossentropy',\n",
    "                optimizer = 'adam',\n",
    "                metrics = ['accuracy'])\n",
    "\n",
    "model.summary()"
   ]
  },
  {
   "cell_type": "code",
   "execution_count": 4,
   "metadata": {},
   "outputs": [
    {
     "name": "stdout",
     "output_type": "stream",
     "text": [
      "Train on 60560 samples, validate on 23821 samples\n",
      "Epoch 1/1000\n",
      "60560/60560 [==============================] - 1s 14us/step - loss: 0.3354 - accuracy: 0.8670 - val_loss: 0.3480 - val_accuracy: 0.8709\n",
      "Epoch 2/1000\n",
      "60560/60560 [==============================] - 1s 9us/step - loss: 0.1855 - accuracy: 0.9361 - val_loss: 0.3037 - val_accuracy: 0.8937\n",
      "Epoch 3/1000\n",
      "60560/60560 [==============================] - 1s 9us/step - loss: 0.1468 - accuracy: 0.9519 - val_loss: 0.3423 - val_accuracy: 0.8642\n",
      "Epoch 4/1000\n",
      "60560/60560 [==============================] - 1s 9us/step - loss: 0.1251 - accuracy: 0.9621 - val_loss: 0.3056 - val_accuracy: 0.9026\n",
      "Epoch 5/1000\n",
      "60560/60560 [==============================] - 1s 9us/step - loss: 0.1082 - accuracy: 0.9687 - val_loss: 0.3877 - val_accuracy: 0.8464\n",
      "Epoch 6/1000\n",
      "60560/60560 [==============================] - 1s 9us/step - loss: 0.0987 - accuracy: 0.9724 - val_loss: 0.3368 - val_accuracy: 0.8879\n",
      "Epoch 7/1000\n",
      "60560/60560 [==============================] - 1s 9us/step - loss: 0.0951 - accuracy: 0.9729 - val_loss: 0.3712 - val_accuracy: 0.8627\n",
      "Epoch 8/1000\n",
      "60560/60560 [==============================] - 1s 9us/step - loss: 0.0886 - accuracy: 0.9754 - val_loss: 0.3441 - val_accuracy: 0.8859\n",
      "Epoch 9/1000\n",
      "60560/60560 [==============================] - 1s 9us/step - loss: 0.0846 - accuracy: 0.9755 - val_loss: 0.3709 - val_accuracy: 0.8601\n",
      "Epoch 10/1000\n",
      "60560/60560 [==============================] - 1s 10us/step - loss: 0.0799 - accuracy: 0.9769 - val_loss: 0.3942 - val_accuracy: 0.8652\n",
      "Epoch 11/1000\n",
      "60560/60560 [==============================] - 1s 9us/step - loss: 0.0773 - accuracy: 0.9779 - val_loss: 0.3964 - val_accuracy: 0.8582\n",
      "Epoch 12/1000\n",
      "60560/60560 [==============================] - 1s 10us/step - loss: 0.0718 - accuracy: 0.9791 - val_loss: 0.4092 - val_accuracy: 0.8648\n"
     ]
    },
    {
     "data": {
      "text/plain": [
       "<keras.callbacks.callbacks.History at 0x7fda03dc3710>"
      ]
     },
     "execution_count": 4,
     "metadata": {},
     "output_type": "execute_result"
    }
   ],
   "source": [
    "# Define callbacks.\n",
    "early_stopping_cb = keras.callbacks.EarlyStopping(monitor=\"val_loss\", patience=10, restore_best_weights=True)\n",
    "\n",
    "model.fit(x_train, y_train,\n",
    "            validation_data=(x_val, y_val),\n",
    "            batch_size = 512, \n",
    "            epochs= 1000, \n",
    "            verbose = 1,\n",
    "            callbacks=[early_stopping_cb])"
   ]
  },
  {
   "cell_type": "code",
   "execution_count": 5,
   "metadata": {},
   "outputs": [
    {
     "name": "stdout",
     "output_type": "stream",
     "text": [
      "60560/60560 [==============================] - 1s 14us/step\n",
      "23821/23821 [==============================] - 0s 15us/step\n",
      "24718/24718 [==============================] - 0s 14us/step\n",
      "0.32949141347424044\n",
      "Train\n",
      "AUC:0.986\n",
      "accuracy:0.942\n",
      "recall:0.954\n",
      "precision:0.879\n",
      "specificity:0.936\n",
      "prevalence:0.329\n",
      " \n",
      "Valid\n",
      "AUC:0.928\n",
      "accuracy:0.887\n",
      "recall:0.855\n",
      "precision:0.784\n",
      "specificity:0.900\n",
      "prevalence:0.298\n",
      " \n",
      "Test\n",
      "AUC:0.783\n",
      "accuracy:0.650\n",
      "recall:0.728\n",
      "precision:0.441\n",
      "specificity:0.617\n",
      "prevalence:0.294\n",
      " \n"
     ]
    },
    {
     "data": {
      "text/plain": [
       "(0.7829886982816175,\n",
       " 0.6496480297758719,\n",
       " 0.7283627342888643,\n",
       " 0.44137297477868714,\n",
       " array([0.61693964]))"
      ]
     },
     "execution_count": 5,
     "metadata": {},
     "output_type": "execute_result"
    }
   ],
   "source": [
    "from sklearn.metrics import roc_auc_score, accuracy_score, precision_score, recall_score\n",
    "\n",
    "\n",
    "def calc_prevalence(y_actual):\n",
    "    return (sum(y_actual)/len(y_actual))\n",
    "\n",
    "\n",
    "def calc_specificity(y_actual, y_pred, thresh):\n",
    "    # calculates specificity\n",
    "    return sum((y_pred < thresh) & (y_actual == 0)) /sum(y_actual ==0)\n",
    "\n",
    "\n",
    "def print_report(y_actual, y_pred, thresh):\n",
    "    auc = roc_auc_score(y_actual, y_pred)\n",
    "    accuracy = accuracy_score(y_actual, (y_pred > thresh))\n",
    "    recall = recall_score(y_actual, (y_pred > thresh))\n",
    "    precision = precision_score(y_actual, (y_pred > thresh))\n",
    "    specificity = calc_specificity(y_actual, y_pred, thresh)\n",
    "    print('AUC:%.3f'%auc)\n",
    "    print('accuracy:%.3f'%accuracy)\n",
    "    print('recall:%.3f'%recall)\n",
    "    print('precision:%.3f'%precision)\n",
    "    print('specificity:%.3f'%specificity)\n",
    "    print('prevalence:%.3f'%calc_prevalence(y_actual))\n",
    "    print(' ')\n",
    "    return auc, accuracy, recall, precision, specificity\n",
    "\n",
    "\n",
    "y_train_preds_dense = model.predict_proba(x_train,verbose = 1)\n",
    "y_valid_preds_dense = model.predict_proba(x_val,verbose = 1)\n",
    "y_test_preds_dense = model.predict_proba(x_test,verbose = 1)\n",
    "\n",
    "thresh = (sum(y_train)/len(y_train))[0]\n",
    "print(thresh)\n",
    "\n",
    "print('Train-----------')\n",
    "print_report(y_train, y_train_preds_dense, thresh)\n",
    "print('Valid-----------')\n",
    "print_report(y_val, y_valid_preds_dense, thresh)\n",
    "print('Test-----------')\n",
    "print_report(y_test, y_test_preds_dense, thresh)"
   ]
  },
  {
   "cell_type": "code",
   "execution_count": null,
   "metadata": {},
   "outputs": [],
   "source": []
  },
  {
   "cell_type": "code",
   "execution_count": 6,
   "metadata": {},
   "outputs": [
    {
     "name": "stdout",
     "output_type": "stream",
     "text": [
      "Model: \"sequential_2\"\n",
      "_________________________________________________________________\n",
      "Layer (type)                 Output Shape              Param #   \n",
      "=================================================================\n",
      "conv1d_1 (Conv1D)            (None, 2156, 256)         1536      \n",
      "_________________________________________________________________\n",
      "dropout_2 (Dropout)          (None, 2156, 256)         0         \n",
      "_________________________________________________________________\n",
      "flatten_1 (Flatten)          (None, 551936)            0         \n",
      "_________________________________________________________________\n",
      "dense_3 (Dense)              (None, 1)                 551937    \n",
      "=================================================================\n",
      "Total params: 553,473\n",
      "Trainable params: 553,473\n",
      "Non-trainable params: 0\n",
      "_________________________________________________________________\n"
     ]
    }
   ],
   "source": [
    "from keras.layers import Conv1D\n",
    "\n",
    "model = Sequential()\n",
    "model.add(Conv1D(filters = 256, kernel_size = 5, activation = 'relu', input_shape = (2160,1)))\n",
    "model.add(Dropout(rate = 0.25))\n",
    "model.add(Flatten())\n",
    "model.add(Dense(1, activation = 'sigmoid'))\n",
    "\n",
    "# compile the model - use categorical crossentropy, and the adam optimizer\n",
    "model.compile(loss = 'binary_crossentropy',\n",
    "                optimizer = 'adam',\n",
    "                metrics = ['accuracy'])\n",
    "\n",
    "model.summary()"
   ]
  },
  {
   "cell_type": "code",
   "execution_count": 7,
   "metadata": {},
   "outputs": [
    {
     "name": "stdout",
     "output_type": "stream",
     "text": [
      "(60560, 2160, 1)\n",
      "(23821, 2160, 1)\n",
      "(24718, 2160, 1)\n"
     ]
    }
   ],
   "source": [
    "# reshape input\n",
    "x_train_cnn = np.reshape(x_train, (x_train.shape[0], x_train.shape[1], 1))\n",
    "x_val_cnn = np.reshape(x_val, (x_val.shape[0], x_val.shape[1], 1))\n",
    "x_test_cnn = np.reshape(x_test, (x_test.shape[0], x_test.shape[1], 1))\n",
    "\n",
    "print(x_train_cnn.shape)\n",
    "print(x_val_cnn.shape)\n",
    "print(x_test_cnn.shape)"
   ]
  },
  {
   "cell_type": "code",
   "execution_count": 8,
   "metadata": {},
   "outputs": [
    {
     "name": "stdout",
     "output_type": "stream",
     "text": [
      "Train on 60560 samples, validate on 23821 samples\n",
      "Epoch 1/1000\n",
      "60560/60560 [==============================] - 13s 207us/step - loss: 0.3930 - accuracy: 0.8528 - val_loss: 0.3792 - val_accuracy: 0.8796\n",
      "Epoch 2/1000\n",
      "60560/60560 [==============================] - 11s 188us/step - loss: 0.1656 - accuracy: 0.9493 - val_loss: 0.3369 - val_accuracy: 0.8827\n",
      "Epoch 3/1000\n",
      "60560/60560 [==============================] - 11s 188us/step - loss: 0.1338 - accuracy: 0.9592 - val_loss: 0.3497 - val_accuracy: 0.8874\n",
      "Epoch 4/1000\n",
      "60560/60560 [==============================] - 12s 194us/step - loss: 0.1110 - accuracy: 0.9663 - val_loss: 0.4475 - val_accuracy: 0.7720\n",
      "Epoch 5/1000\n",
      "60560/60560 [==============================] - 12s 193us/step - loss: 0.0966 - accuracy: 0.9714 - val_loss: 0.4247 - val_accuracy: 0.8345\n",
      "Epoch 6/1000\n",
      "60560/60560 [==============================] - 12s 197us/step - loss: 0.0856 - accuracy: 0.9740 - val_loss: 0.4496 - val_accuracy: 0.7767\n",
      "Epoch 7/1000\n",
      "60560/60560 [==============================] - 12s 196us/step - loss: 0.0783 - accuracy: 0.9760 - val_loss: 0.3905 - val_accuracy: 0.8317\n",
      "Epoch 8/1000\n",
      "60560/60560 [==============================] - 12s 197us/step - loss: 0.0721 - accuracy: 0.9780 - val_loss: 0.3318 - val_accuracy: 0.8827\n",
      "Epoch 9/1000\n",
      "60560/60560 [==============================] - 12s 198us/step - loss: 0.0683 - accuracy: 0.9793 - val_loss: 0.3688 - val_accuracy: 0.8926\n",
      "Epoch 10/1000\n",
      "60560/60560 [==============================] - 12s 196us/step - loss: 0.0640 - accuracy: 0.9804 - val_loss: 0.3878 - val_accuracy: 0.8886\n",
      "Epoch 11/1000\n",
      "60560/60560 [==============================] - 12s 199us/step - loss: 0.0598 - accuracy: 0.9815 - val_loss: 0.3813 - val_accuracy: 0.8356\n",
      "Epoch 12/1000\n",
      "60560/60560 [==============================] - 11s 183us/step - loss: 0.0574 - accuracy: 0.9825 - val_loss: 0.3781 - val_accuracy: 0.8922\n",
      "Epoch 13/1000\n",
      "60560/60560 [==============================] - 11s 183us/step - loss: 0.0557 - accuracy: 0.9826 - val_loss: 0.3838 - val_accuracy: 0.8926\n",
      "Epoch 14/1000\n",
      "60560/60560 [==============================] - 11s 179us/step - loss: 0.0543 - accuracy: 0.9832 - val_loss: 0.3549 - val_accuracy: 0.8897\n",
      "Epoch 15/1000\n",
      "60560/60560 [==============================] - 11s 181us/step - loss: 0.0505 - accuracy: 0.9840 - val_loss: 0.3782 - val_accuracy: 0.8927\n",
      "Epoch 16/1000\n",
      "60560/60560 [==============================] - 11s 183us/step - loss: 0.0501 - accuracy: 0.9841 - val_loss: 0.3510 - val_accuracy: 0.8918\n",
      "Epoch 17/1000\n",
      "60560/60560 [==============================] - 11s 183us/step - loss: 0.0470 - accuracy: 0.9850 - val_loss: 0.3575 - val_accuracy: 0.8935\n",
      "Epoch 18/1000\n",
      "60560/60560 [==============================] - 12s 197us/step - loss: 0.0453 - accuracy: 0.9855 - val_loss: 0.3618 - val_accuracy: 0.8927\n"
     ]
    },
    {
     "data": {
      "text/plain": [
       "<keras.callbacks.callbacks.History at 0x7fd92c0f3780>"
      ]
     },
     "execution_count": 8,
     "metadata": {},
     "output_type": "execute_result"
    }
   ],
   "source": [
    "# Define callbacks.\n",
    "early_stopping_cb = keras.callbacks.EarlyStopping(monitor=\"val_loss\", patience=10, restore_best_weights=True)\n",
    "\n",
    "model.fit(x_train_cnn, y_train,\n",
    "            validation_data=(x_val_cnn, y_val),\n",
    "            batch_size = 512, \n",
    "            epochs= 1000, \n",
    "            verbose = 1,\n",
    "            callbacks=[early_stopping_cb])"
   ]
  },
  {
   "cell_type": "code",
   "execution_count": 10,
   "metadata": {},
   "outputs": [
    {
     "name": "stdout",
     "output_type": "stream",
     "text": [
      "60560/60560 [==============================] - 5s 76us/step\n",
      "23821/23821 [==============================] - 2s 72us/step\n",
      "24718/24718 [==============================] - 2s 72us/step\n",
      "Train\n",
      "AUC:0.996\n",
      "accuracy:0.978\n",
      "recall:0.974\n",
      "precision:0.960\n",
      "specificity:0.980\n",
      "prevalence:0.329\n",
      " \n",
      "Valid\n",
      "AUC:0.917\n",
      "accuracy:0.868\n",
      "recall:0.770\n",
      "precision:0.782\n",
      "specificity:0.909\n",
      "prevalence:0.298\n",
      " \n",
      "Test\n",
      "AUC:0.790\n",
      "accuracy:0.709\n",
      "recall:0.687\n",
      "precision:0.503\n",
      "specificity:0.718\n",
      "prevalence:0.294\n",
      " \n"
     ]
    },
    {
     "data": {
      "text/plain": [
       "(0.7900832144002217,\n",
       " 0.7090379480540496,\n",
       " 0.6866041896361632,\n",
       " 0.5032323232323233,\n",
       " array([0.71835987]))"
      ]
     },
     "execution_count": 10,
     "metadata": {},
     "output_type": "execute_result"
    }
   ],
   "source": [
    "y_train_preds_cnn = model.predict_proba(x_train_cnn,verbose = 1)\n",
    "y_valid_preds_cnn = model.predict_proba(x_val_cnn,verbose = 1)\n",
    "y_test_preds_cnn = model.predict_proba(x_test_cnn,verbose = 1)\n",
    "\n",
    "print('Train-----------')\n",
    "print_report(y_train, y_train_preds_cnn, thresh)\n",
    "print('Valid-----------')\n",
    "print_report(y_val, y_valid_preds_cnn, thresh)\n",
    "print('Test-----------')\n",
    "print_report(y_test, y_test_preds_cnn, thresh)"
   ]
  },
  {
   "cell_type": "code",
   "execution_count": 11,
   "metadata": {},
   "outputs": [
    {
     "data": {
      "image/png": "[encoded data removed]",
      "text/plain": [
       "<Figure size 432x288 with 1 Axes>"
      ]
     },
     "metadata": {
      "needs_background": "light"
     },
     "output_type": "display_data"
    }
   ],
   "source": [
    "from sklearn.metrics import roc_curve, roc_auc_score\n",
    "\n",
    "fpr_valid_cnn, tpr_valid_cnn, t_valid_cnn = roc_curve(y_val, y_valid_preds_cnn)\n",
    "auc_valid_cnn = roc_auc_score(y_val, y_valid_preds_cnn)\n",
    "\n",
    "fpr_valid_dense, tpr_valid_dense, t_valid_dense = roc_curve(y_val, y_valid_preds_dense)\n",
    "auc_valid_dense = roc_auc_score(y_val, y_valid_preds_dense)\n",
    "\n",
    "plt.plot(fpr_valid_cnn, tpr_valid_cnn, 'g-', label = 'CNN AUC:%.3f'%auc_valid_cnn)\n",
    "plt.plot(fpr_valid_dense, tpr_valid_dense, 'r-', label = 'Dense AUC:%.3f'%auc_valid_dense)\n",
    "\n",
    "plt.plot([0,1],[0,1], 'k--')\n",
    "plt.xlabel('FPR')\n",
    "plt.ylabel('TPR')\n",
    "plt.legend(bbox_to_anchor = (1.04,1), loc = 'upper left')\n",
    "plt.title('Validation Set')\n",
    "plt.show()"
   ]
  },
  {
   "cell_type": "code",
   "execution_count": null,
   "metadata": {},
   "outputs": [],
   "source": []
  },
  {
   "cell_type": "code",
   "execution_count": null,
   "metadata": {},
   "outputs": [],
   "source": []
  },
  {
   "cell_type": "code",
   "execution_count": null,
   "metadata": {},
   "outputs": [],
   "source": []
  },
  {
   "cell_type": "code",
   "execution_count": null,
   "metadata": {},
   "outputs": [],
   "source": []
  },
  {
   "cell_type": "markdown",
   "metadata": {},
   "source": [
    "https://www.kaggle.com/gregoiredc/arrhythmia-on-ecg-classification-using-cnn"
   ]
  },
  {
   "cell_type": "code",
   "execution_count": 16,
   "metadata": {},
   "outputs": [
    {
     "name": "stdout",
     "output_type": "stream",
     "text": [
      "Model: \"model_3\"\n",
      "_________________________________________________________________\n",
      "Layer (type)                 Output Shape              Param #   \n",
      "=================================================================\n",
      "inputs_cnn (InputLayer)      (None, 2160, 1)           0         \n",
      "_________________________________________________________________\n",
      "conv1d_8 (Conv1D)            (None, 2155, 64)          448       \n",
      "_________________________________________________________________\n",
      "batch_normalization_7 (Batch (None, 2155, 64)          256       \n",
      "_________________________________________________________________\n",
      "max_pooling1d_7 (MaxPooling1 (None, 1078, 64)          0         \n",
      "_________________________________________________________________\n",
      "conv1d_9 (Conv1D)            (None, 1076, 64)          12352     \n",
      "_________________________________________________________________\n",
      "batch_normalization_8 (Batch (None, 1076, 64)          256       \n",
      "_________________________________________________________________\n",
      "max_pooling1d_8 (MaxPooling1 (None, 538, 64)           0         \n",
      "_________________________________________________________________\n",
      "conv1d_10 (Conv1D)           (None, 536, 64)           12352     \n",
      "_________________________________________________________________\n",
      "batch_normalization_9 (Batch (None, 536, 64)           256       \n",
      "_________________________________________________________________\n",
      "max_pooling1d_9 (MaxPooling1 (None, 268, 64)           0         \n",
      "_________________________________________________________________\n",
      "flatten_4 (Flatten)          (None, 17152)             0         \n",
      "_________________________________________________________________\n",
      "dense_8 (Dense)              (None, 64)                1097792   \n",
      "_________________________________________________________________\n",
      "dense_9 (Dense)              (None, 32)                2080      \n",
      "_________________________________________________________________\n",
      "main_output (Dense)          (None, 1)                 33        \n",
      "=================================================================\n",
      "Total params: 1,125,825\n",
      "Trainable params: 1,125,441\n",
      "Non-trainable params: 384\n",
      "_________________________________________________________________\n"
     ]
    }
   ],
   "source": [
    "from keras.layers import Dense, Convolution1D, MaxPool1D, Flatten, Dropout\n",
    "from keras.layers import Input\n",
    "from keras.models import Model\n",
    "from keras.layers.normalization import BatchNormalization\n",
    "import keras\n",
    "from keras.callbacks import EarlyStopping, ModelCheckpoint\n",
    "\n",
    "\n",
    "def network():\n",
    "    im_shape=(x_train_cnn.shape[1],1)\n",
    "    inputs_cnn=Input(shape=(im_shape), name='inputs_cnn')\n",
    "    conv1_1=Convolution1D(64, (6), activation='relu', input_shape=im_shape)(inputs_cnn)\n",
    "    conv1_1=BatchNormalization()(conv1_1)\n",
    "    pool1=MaxPool1D(pool_size=(3), strides=(2), padding=\"same\")(conv1_1)\n",
    "    conv2_1=Convolution1D(64, (3), activation='relu', input_shape=im_shape)(pool1)\n",
    "    conv2_1=BatchNormalization()(conv2_1)\n",
    "    pool2=MaxPool1D(pool_size=(2), strides=(2), padding=\"same\")(conv2_1)\n",
    "    conv3_1=Convolution1D(64, (3), activation='relu', input_shape=im_shape)(pool2)\n",
    "    conv3_1=BatchNormalization()(conv3_1)\n",
    "    pool3=MaxPool1D(pool_size=(2), strides=(2), padding=\"same\")(conv3_1)\n",
    "    flatten=Flatten()(pool3)\n",
    "    dense_end1 = Dense(64, activation='relu')(flatten)\n",
    "    dense_end2 = Dense(32, activation='relu')(dense_end1)\n",
    "    main_output = Dense(1, activation='sigmoid', name='main_output')(dense_end2)\n",
    "    \n",
    "    model = Model(inputs= inputs_cnn, outputs=main_output)\n",
    "    model.compile(optimizer='adam', loss='binary_crossentropy',metrics = ['accuracy'])\n",
    "    \n",
    "    return model\n",
    "\n",
    "\n",
    "model = network()\n",
    "model.summary()"
   ]
  },
  {
   "cell_type": "code",
   "execution_count": 17,
   "metadata": {},
   "outputs": [
    {
     "name": "stdout",
     "output_type": "stream",
     "text": [
      "Train on 60560 samples, validate on 23821 samples\n",
      "Epoch 1/1000\n",
      "60560/60560 [==============================] - 11s 181us/step - loss: 0.1209 - accuracy: 0.9560 - val_loss: 0.9287 - val_accuracy: 0.7022\n",
      "Epoch 2/1000\n",
      "60560/60560 [==============================] - 10s 171us/step - loss: 0.0253 - accuracy: 0.9916 - val_loss: 1.3901 - val_accuracy: 0.7022\n",
      "Epoch 3/1000\n",
      "60560/60560 [==============================] - 10s 170us/step - loss: 0.0118 - accuracy: 0.9962 - val_loss: 1.3389 - val_accuracy: 0.7336\n",
      "Epoch 4/1000\n",
      "60560/60560 [==============================] - 11s 174us/step - loss: 0.0069 - accuracy: 0.9979 - val_loss: 0.7679 - val_accuracy: 0.8187\n",
      "Epoch 5/1000\n",
      "60560/60560 [==============================] - 11s 175us/step - loss: 0.0043 - accuracy: 0.9989 - val_loss: 0.5492 - val_accuracy: 0.8889\n",
      "Epoch 6/1000\n",
      "60560/60560 [==============================] - 10s 172us/step - loss: 0.0024 - accuracy: 0.9994 - val_loss: 0.5283 - val_accuracy: 0.9018\n",
      "Epoch 7/1000\n",
      "60560/60560 [==============================] - 10s 168us/step - loss: 0.0036 - accuracy: 0.9989 - val_loss: 0.5972 - val_accuracy: 0.8890\n",
      "Epoch 8/1000\n",
      "60560/60560 [==============================] - 10s 173us/step - loss: 0.0018 - accuracy: 0.9996 - val_loss: 0.5770 - val_accuracy: 0.8961\n",
      "Epoch 9/1000\n",
      "60560/60560 [==============================] - 10s 171us/step - loss: 0.0046 - accuracy: 0.9984 - val_loss: 0.4946 - val_accuracy: 0.8873\n",
      "Epoch 10/1000\n",
      "60560/60560 [==============================] - 11s 175us/step - loss: 0.0031 - accuracy: 0.9989 - val_loss: 0.5446 - val_accuracy: 0.9011\n",
      "Epoch 11/1000\n",
      "60560/60560 [==============================] - 11s 176us/step - loss: 0.0022 - accuracy: 0.9994 - val_loss: 0.5366 - val_accuracy: 0.9002\n",
      "Epoch 12/1000\n",
      "60560/60560 [==============================] - 11s 178us/step - loss: 0.0026 - accuracy: 0.9992 - val_loss: 0.8053 - val_accuracy: 0.8545\n",
      "Epoch 13/1000\n",
      "60560/60560 [==============================] - 10s 173us/step - loss: 0.0054 - accuracy: 0.9983 - val_loss: 0.6678 - val_accuracy: 0.8836\n",
      "Epoch 14/1000\n",
      "60560/60560 [==============================] - 10s 165us/step - loss: 0.0043 - accuracy: 0.9987 - val_loss: 0.5807 - val_accuracy: 0.8688\n",
      "Epoch 15/1000\n",
      "60560/60560 [==============================] - 11s 174us/step - loss: 0.0043 - accuracy: 0.9989 - val_loss: 0.5192 - val_accuracy: 0.8964\n",
      "Epoch 16/1000\n",
      "60560/60560 [==============================] - 11s 178us/step - loss: 0.0019 - accuracy: 0.9993 - val_loss: 0.4210 - val_accuracy: 0.9278\n",
      "Epoch 17/1000\n",
      "60560/60560 [==============================] - 10s 172us/step - loss: 0.0016 - accuracy: 0.9995 - val_loss: 1.1014 - val_accuracy: 0.8759\n",
      "Epoch 18/1000\n",
      "60560/60560 [==============================] - 10s 168us/step - loss: 0.0011 - accuracy: 0.9997 - val_loss: 0.9940 - val_accuracy: 0.8980\n",
      "Epoch 19/1000\n",
      "60560/60560 [==============================] - 10s 167us/step - loss: 8.0926e-04 - accuracy: 0.9997 - val_loss: 0.7906 - val_accuracy: 0.9005\n",
      "Epoch 20/1000\n",
      "60560/60560 [==============================] - 10s 170us/step - loss: 3.7403e-04 - accuracy: 0.9999 - val_loss: 0.7575 - val_accuracy: 0.9003\n",
      "Epoch 21/1000\n",
      "60560/60560 [==============================] - 11s 176us/step - loss: 4.0972e-05 - accuracy: 1.0000 - val_loss: 0.7001 - val_accuracy: 0.9085\n",
      "Epoch 22/1000\n",
      "60560/60560 [==============================] - 10s 167us/step - loss: 1.2255e-05 - accuracy: 1.0000 - val_loss: 0.7011 - val_accuracy: 0.9101\n",
      "Epoch 23/1000\n",
      "60560/60560 [==============================] - 11s 175us/step - loss: 9.3752e-06 - accuracy: 1.0000 - val_loss: 0.7038 - val_accuracy: 0.9106\n",
      "Epoch 24/1000\n",
      "60560/60560 [==============================] - 10s 171us/step - loss: 7.6603e-06 - accuracy: 1.0000 - val_loss: 0.7089 - val_accuracy: 0.9112\n",
      "Epoch 25/1000\n",
      "60560/60560 [==============================] - 10s 170us/step - loss: 6.7135e-06 - accuracy: 1.0000 - val_loss: 0.7132 - val_accuracy: 0.9108\n",
      "Epoch 26/1000\n",
      "60560/60560 [==============================] - 10s 169us/step - loss: 5.6582e-06 - accuracy: 1.0000 - val_loss: 0.7150 - val_accuracy: 0.9111\n"
     ]
    },
    {
     "data": {
      "text/plain": [
       "<keras.callbacks.callbacks.History at 0x7fd85c206c18>"
      ]
     },
     "execution_count": 17,
     "metadata": {},
     "output_type": "execute_result"
    }
   ],
   "source": [
    "# Define callbacks.\n",
    "early_stopping_cb = keras.callbacks.EarlyStopping(monitor=\"val_loss\", patience=10, restore_best_weights=True)\n",
    "\n",
    "model.fit(x_train_cnn, y_train,\n",
    "            validation_data=(x_val_cnn, y_val),\n",
    "            batch_size = 512, \n",
    "            epochs= 1000, \n",
    "            verbose = 1,\n",
    "            callbacks=[early_stopping_cb])"
   ]
  },
  {
   "cell_type": "code",
   "execution_count": 19,
   "metadata": {},
   "outputs": [
    {
     "name": "stdout",
     "output_type": "stream",
     "text": [
      "60560/60560 [==============================] - 7s 108us/step\n",
      "23821/23821 [==============================] - 3s 108us/step\n",
      "24718/24718 [==============================] - 2s 98us/step\n",
      "Train-----------\n",
      "AUC:1.000\n",
      "accuracy:1.000\n",
      "recall:1.000\n",
      "precision:0.999\n",
      "specificity:1.000\n",
      "prevalence:0.329\n",
      " \n",
      "Valid-----------\n",
      "AUC:0.962\n",
      "accuracy:0.929\n",
      "recall:0.840\n",
      "precision:0.915\n",
      "specificity:0.967\n",
      "prevalence:0.298\n",
      " \n",
      "Test-----------\n",
      "AUC:0.787\n",
      "accuracy:0.732\n",
      "recall:0.557\n",
      "precision:0.543\n",
      "specificity:0.805\n",
      "prevalence:0.294\n",
      " \n"
     ]
    },
    {
     "data": {
      "text/plain": [
       "(0.7868235610871905,\n",
       " 0.7323003479245894,\n",
       " 0.5573318632855567,\n",
       " 0.5428916633105115,\n",
       " array([0.80500515]))"
      ]
     },
     "execution_count": 19,
     "metadata": {},
     "output_type": "execute_result"
    }
   ],
   "source": [
    "y_train_preds_cnn = model.predict(x_train_cnn,verbose = 1)\n",
    "y_valid_preds_cnn = model.predict(x_val_cnn,verbose = 1)\n",
    "y_test_preds_cnn = model.predict(x_test_cnn,verbose = 1)\n",
    "\n",
    "print('Train-----------')\n",
    "print_report(y_train, y_train_preds_cnn, thresh)\n",
    "print('Valid-----------')\n",
    "print_report(y_val, y_valid_preds_cnn, thresh)\n",
    "print('Test-----------')\n",
    "print_report(y_test, y_test_preds_cnn, thresh)"
   ]
  },
  {
   "cell_type": "code",
   "execution_count": null,
   "metadata": {},
   "outputs": [],
   "source": []
  },
  {
   "cell_type": "code",
   "execution_count": null,
   "metadata": {},
   "outputs": [],
   "source": []
  },
  {
   "cell_type": "code",
   "execution_count": null,
   "metadata": {},
   "outputs": [],
   "source": []
  },
  {
   "cell_type": "markdown",
   "metadata": {},
   "source": []
  },
  {
   "cell_type": "code",
   "execution_count": 25,
   "metadata": {},
   "outputs": [
    {
     "name": "stdout",
     "output_type": "stream",
     "text": [
      "Model: \"model_6\"\n",
      "__________________________________________________________________________________________________\n",
      "Layer (type)                    Output Shape         Param #     Connected to                     \n",
      "==================================================================================================\n",
      "input_2 (InputLayer)            (None, 2160, 1)      0                                            \n",
      "__________________________________________________________________________________________________\n",
      "conv1d_25 (Conv1D)              (None, 2156, 32)     192         input_2[0][0]                    \n",
      "__________________________________________________________________________________________________\n",
      "conv1d_26 (Conv1D)              (None, 2156, 32)     5152        conv1d_25[0][0]                  \n",
      "__________________________________________________________________________________________________\n",
      "activation_12 (Activation)      (None, 2156, 32)     0           conv1d_26[0][0]                  \n",
      "__________________________________________________________________________________________________\n",
      "conv1d_27 (Conv1D)              (None, 2156, 32)     5152        activation_12[0][0]              \n",
      "__________________________________________________________________________________________________\n",
      "add_6 (Add)                     (None, 2156, 32)     0           conv1d_27[0][0]                  \n",
      "                                                                 conv1d_25[0][0]                  \n",
      "__________________________________________________________________________________________________\n",
      "activation_15 (Activation)      (None, 2156, 32)     0           add_6[0][0]                      \n",
      "__________________________________________________________________________________________________\n",
      "max_pooling1d_19 (MaxPooling1D) (None, 1076, 32)     0           activation_15[0][0]              \n",
      "__________________________________________________________________________________________________\n",
      "conv1d_30 (Conv1D)              (None, 1076, 32)     5152        max_pooling1d_19[0][0]           \n",
      "__________________________________________________________________________________________________\n",
      "activation_16 (Activation)      (None, 1076, 32)     0           conv1d_30[0][0]                  \n",
      "__________________________________________________________________________________________________\n",
      "conv1d_31 (Conv1D)              (None, 1076, 32)     5152        activation_16[0][0]              \n",
      "__________________________________________________________________________________________________\n",
      "add_8 (Add)                     (None, 1076, 32)     0           conv1d_31[0][0]                  \n",
      "                                                                 max_pooling1d_19[0][0]           \n",
      "__________________________________________________________________________________________________\n",
      "activation_17 (Activation)      (None, 1076, 32)     0           add_8[0][0]                      \n",
      "__________________________________________________________________________________________________\n",
      "max_pooling1d_20 (MaxPooling1D) (None, 536, 32)      0           activation_17[0][0]              \n",
      "__________________________________________________________________________________________________\n",
      "conv1d_32 (Conv1D)              (None, 536, 32)      5152        max_pooling1d_20[0][0]           \n",
      "__________________________________________________________________________________________________\n",
      "activation_18 (Activation)      (None, 536, 32)      0           conv1d_32[0][0]                  \n",
      "__________________________________________________________________________________________________\n",
      "conv1d_33 (Conv1D)              (None, 536, 32)      5152        activation_18[0][0]              \n",
      "__________________________________________________________________________________________________\n",
      "add_9 (Add)                     (None, 536, 32)      0           conv1d_33[0][0]                  \n",
      "                                                                 max_pooling1d_20[0][0]           \n",
      "__________________________________________________________________________________________________\n",
      "activation_19 (Activation)      (None, 536, 32)      0           add_9[0][0]                      \n",
      "__________________________________________________________________________________________________\n",
      "max_pooling1d_21 (MaxPooling1D) (None, 266, 32)      0           activation_19[0][0]              \n",
      "__________________________________________________________________________________________________\n",
      "conv1d_34 (Conv1D)              (None, 266, 32)      5152        max_pooling1d_21[0][0]           \n",
      "__________________________________________________________________________________________________\n",
      "activation_20 (Activation)      (None, 266, 32)      0           conv1d_34[0][0]                  \n",
      "__________________________________________________________________________________________________\n",
      "conv1d_35 (Conv1D)              (None, 266, 32)      5152        activation_20[0][0]              \n",
      "__________________________________________________________________________________________________\n",
      "add_10 (Add)                    (None, 266, 32)      0           conv1d_35[0][0]                  \n",
      "                                                                 max_pooling1d_21[0][0]           \n",
      "__________________________________________________________________________________________________\n",
      "activation_21 (Activation)      (None, 266, 32)      0           add_10[0][0]                     \n",
      "__________________________________________________________________________________________________\n",
      "max_pooling1d_22 (MaxPooling1D) (None, 131, 32)      0           activation_21[0][0]              \n",
      "__________________________________________________________________________________________________\n",
      "flatten_7 (Flatten)             (None, 4192)         0           max_pooling1d_22[0][0]           \n",
      "__________________________________________________________________________________________________\n",
      "dense_15 (Dense)                (None, 32)           134176      flatten_7[0][0]                  \n",
      "__________________________________________________________________________________________________\n",
      "activation_22 (Activation)      (None, 32)           0           dense_15[0][0]                   \n",
      "__________________________________________________________________________________________________\n",
      "dense_16 (Dense)                (None, 32)           1056        activation_22[0][0]              \n",
      "__________________________________________________________________________________________________\n",
      "dense_17 (Dense)                (None, 1)            33          dense_16[0][0]                   \n",
      "==================================================================================================\n",
      "Total params: 176,673\n",
      "Trainable params: 176,673\n",
      "Non-trainable params: 0\n",
      "__________________________________________________________________________________________________\n"
     ]
    }
   ],
   "source": [
    "from keras.models import Model\n",
    "from keras.layers import Input, Dense, Conv1D, MaxPooling1D, Add, Flatten, Activation\n",
    "from keras import backend as K\n",
    "from keras.optimizers import Adam\n",
    "\n",
    "\n",
    "def network2():\n",
    "    \"\"\"Implementation of https://arxiv.org/pdf/1805.00794.pdf\"\"\"\n",
    "    \n",
    "    n_obs, feature, depth = x_train_cnn.shape\n",
    "    \n",
    "    inp = Input(shape=(feature, depth))\n",
    "    C = Conv1D(filters=32, kernel_size=5, strides=1)(inp)\n",
    "\n",
    "    C11 = Conv1D(filters=32, kernel_size=5, strides=1, padding='same')(C)\n",
    "    A11 = Activation(\"relu\")(C11)\n",
    "    C12 = Conv1D(filters=32, kernel_size=5, strides=1, padding='same')(A11)\n",
    "    S11 = Add()([C12, C])\n",
    "    A12 = Activation(\"relu\")(S11)\n",
    "    M11 = MaxPooling1D(pool_size=5, strides=2)(A12)\n",
    "\n",
    "\n",
    "    C21 = Conv1D(filters=32, kernel_size=5, strides=1, padding='same')(M11)\n",
    "    A21 = Activation(\"relu\")(C21)\n",
    "    C22 = Conv1D(filters=32, kernel_size=5, strides=1, padding='same')(A21)\n",
    "    S21 = Add()([C22, M11])\n",
    "    A22 = Activation(\"relu\")(S11)\n",
    "    M21 = MaxPooling1D(pool_size=5, strides=2)(A22)\n",
    "\n",
    "\n",
    "    C31 = Conv1D(filters=32, kernel_size=5, strides=1, padding='same')(M21)\n",
    "    A31 = Activation(\"relu\")(C31)\n",
    "    C32 = Conv1D(filters=32, kernel_size=5, strides=1, padding='same')(A31)\n",
    "    S31 = Add()([C32, M21])\n",
    "    A32 = Activation(\"relu\")(S31)\n",
    "    M31 = MaxPooling1D(pool_size=5, strides=2)(A32)\n",
    "\n",
    "\n",
    "    C41 = Conv1D(filters=32, kernel_size=5, strides=1, padding='same')(M31)\n",
    "    A41 = Activation(\"relu\")(C41)\n",
    "    C42 = Conv1D(filters=32, kernel_size=5, strides=1, padding='same')(A41)\n",
    "    S41 = Add()([C42, M31])\n",
    "    A42 = Activation(\"relu\")(S41)\n",
    "    M41 = MaxPooling1D(pool_size=5, strides=2)(A42)\n",
    "\n",
    "\n",
    "    C51 = Conv1D(filters=32, kernel_size=5, strides=1, padding='same')(M41)\n",
    "    A51 = Activation(\"relu\")(C51)\n",
    "    C52 = Conv1D(filters=32, kernel_size=5, strides=1, padding='same')(A51)\n",
    "    S51 = Add()([C52, M41])\n",
    "    A52 = Activation(\"relu\")(S51)\n",
    "    M51 = MaxPooling1D(pool_size=5, strides=2)(A52)\n",
    "\n",
    "    F1 = Flatten()(M51)\n",
    "\n",
    "    D1 = Dense(32)(F1)\n",
    "    A6 = Activation(\"relu\")(D1)\n",
    "    D2 = Dense(32)(A6)\n",
    "    D3 = Dense(1, activation='sigmoid')(D2)\n",
    "\n",
    "    model = Model(inputs=inp, outputs=D3)\n",
    "    model.compile(optimizer='adam', loss='binary_crossentropy',metrics = ['accuracy'])\n",
    "    \n",
    "    return model\n",
    "\n",
    "model = network2()\n",
    "model.summary()"
   ]
  },
  {
   "cell_type": "code",
   "execution_count": 26,
   "metadata": {},
   "outputs": [
    {
     "name": "stdout",
     "output_type": "stream",
     "text": [
      "Train on 60560 samples, validate on 23821 samples\n",
      "Epoch 1/1000\n",
      "60560/60560 [==============================] - 8s 136us/step - loss: 0.2901 - accuracy: 0.8790 - val_loss: 0.3360 - val_accuracy: 0.8868\n",
      "Epoch 2/1000\n",
      "60560/60560 [==============================] - 8s 128us/step - loss: 0.0536 - accuracy: 0.9828 - val_loss: 0.4116 - val_accuracy: 0.8987\n",
      "Epoch 3/1000\n",
      "60560/60560 [==============================] - 8s 128us/step - loss: 0.0356 - accuracy: 0.9882 - val_loss: 0.2442 - val_accuracy: 0.9325\n",
      "Epoch 4/1000\n",
      "60560/60560 [==============================] - 8s 125us/step - loss: 0.0253 - accuracy: 0.9915 - val_loss: 0.3933 - val_accuracy: 0.8719\n",
      "Epoch 5/1000\n",
      "60560/60560 [==============================] - 7s 123us/step - loss: 0.0189 - accuracy: 0.9937 - val_loss: 0.4137 - val_accuracy: 0.8862\n",
      "Epoch 6/1000\n",
      "60560/60560 [==============================] - 7s 124us/step - loss: 0.0180 - accuracy: 0.9940 - val_loss: 0.3123 - val_accuracy: 0.9300\n",
      "Epoch 7/1000\n",
      "60560/60560 [==============================] - 8s 130us/step - loss: 0.0145 - accuracy: 0.9952 - val_loss: 0.4115 - val_accuracy: 0.9251\n",
      "Epoch 8/1000\n",
      "60560/60560 [==============================] - 8s 124us/step - loss: 0.0148 - accuracy: 0.9948 - val_loss: 0.3866 - val_accuracy: 0.9196\n",
      "Epoch 9/1000\n",
      "60560/60560 [==============================] - 8s 128us/step - loss: 0.0097 - accuracy: 0.9967 - val_loss: 0.6225 - val_accuracy: 0.8647\n",
      "Epoch 10/1000\n",
      "60560/60560 [==============================] - 8s 125us/step - loss: 0.0137 - accuracy: 0.9952 - val_loss: 0.3916 - val_accuracy: 0.9212\n",
      "Epoch 11/1000\n",
      "60560/60560 [==============================] - 7s 124us/step - loss: 0.0094 - accuracy: 0.9968 - val_loss: 0.4657 - val_accuracy: 0.9440\n",
      "Epoch 12/1000\n",
      "60560/60560 [==============================] - 8s 128us/step - loss: 0.0056 - accuracy: 0.9981 - val_loss: 0.6028 - val_accuracy: 0.8930\n",
      "Epoch 13/1000\n",
      "60560/60560 [==============================] - 8s 125us/step - loss: 0.0071 - accuracy: 0.9975 - val_loss: 0.8032 - val_accuracy: 0.8656\n"
     ]
    },
    {
     "data": {
      "text/plain": [
       "<keras.callbacks.callbacks.History at 0x7fd82c11f6a0>"
      ]
     },
     "execution_count": 26,
     "metadata": {},
     "output_type": "execute_result"
    }
   ],
   "source": [
    "# Define callbacks.\n",
    "early_stopping_cb = keras.callbacks.EarlyStopping(monitor=\"val_loss\", patience=10, restore_best_weights=True)\n",
    "\n",
    "model.fit(x_train_cnn, y_train,\n",
    "            validation_data=(x_val_cnn, y_val),\n",
    "            batch_size = 512, \n",
    "            epochs= 1000, \n",
    "            verbose = 1,\n",
    "            callbacks=[early_stopping_cb])"
   ]
  },
  {
   "cell_type": "code",
   "execution_count": 27,
   "metadata": {},
   "outputs": [
    {
     "name": "stdout",
     "output_type": "stream",
     "text": [
      "60560/60560 [==============================] - 4s 71us/step\n",
      "23821/23821 [==============================] - 2s 66us/step\n",
      "24718/24718 [==============================] - 2s 74us/step\n",
      "Train-----------\n",
      "AUC:0.999\n",
      "accuracy:0.991\n",
      "recall:0.987\n",
      "precision:0.987\n",
      "specificity:0.994\n",
      "prevalence:0.329\n",
      " \n",
      "Valid-----------\n",
      "AUC:0.957\n",
      "accuracy:0.926\n",
      "recall:0.867\n",
      "precision:0.881\n",
      "specificity:0.950\n",
      "prevalence:0.298\n",
      " \n",
      "Test-----------\n",
      "AUC:0.874\n",
      "accuracy:0.765\n",
      "recall:0.792\n",
      "precision:0.572\n",
      "specificity:0.754\n",
      "prevalence:0.294\n",
      " \n"
     ]
    },
    {
     "data": {
      "text/plain": [
       "(0.8741349975950299,\n",
       " 0.7652318148717534,\n",
       " 0.7923098125689085,\n",
       " 0.5723245395719263,\n",
       " array([0.75398007]))"
      ]
     },
     "execution_count": 27,
     "metadata": {},
     "output_type": "execute_result"
    }
   ],
   "source": [
    "y_train_preds_cnn = model.predict(x_train_cnn,verbose = 1)\n",
    "y_valid_preds_cnn = model.predict(x_val_cnn,verbose = 1)\n",
    "y_test_preds_cnn = model.predict(x_test_cnn,verbose = 1)\n",
    "\n",
    "print('Train-----------')\n",
    "print_report(y_train, y_train_preds_cnn, thresh)\n",
    "print('Valid-----------')\n",
    "print_report(y_val, y_valid_preds_cnn, thresh)\n",
    "print('Test-----------')\n",
    "print_report(y_test, y_test_preds_cnn, thresh)"
   ]
  },
  {
   "cell_type": "code",
   "execution_count": null,
   "metadata": {},
   "outputs": [],
   "source": []
  }
 ],
 "metadata": {
  "kernelspec": {
   "display_name": "Python 3",
   "language": "python",
   "name": "python3"
  },
  "language_info": {
   "codemirror_mode": {
    "name": "ipython",
    "version": 3
   },
   "file_extension": ".py",
   "mimetype": "text/x-python",
   "name": "python",
   "nbconvert_exporter": "python",
   "pygments_lexer": "ipython3",
   "version": "3.6.10"
  }
 },
 "nbformat": 4,
 "nbformat_minor": 4
}
