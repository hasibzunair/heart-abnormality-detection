{
 "cells": [
  {
   "cell_type": "code",
   "execution_count": null,
   "metadata": {},
   "outputs": [],
   "source": [
    "from glob import glob\n",
    "import wfdb\n",
    "import numpy as np\n",
    "import matplotlib.pyplot as plt\n",
    "import cv2\n",
    "import os\n",
    "import math\n",
    "\n",
    "# Prevent progress bar from printing to new line\n",
    "from functools import partial\n",
    "from tqdm import tqdm\n",
    "tqdm = partial(tqdm, position=0, leave=True)"
   ]
  },
  {
   "cell_type": "code",
   "execution_count": null,
   "metadata": {},
   "outputs": [],
   "source": [
    "ROOT_DIR = os.path.abspath(\"../\")\n",
    "DATA_PATH = os.path.join(ROOT_DIR, \"datasets\", \"mit-bih-arrhythmia-database-1.0.0/\")\n",
    "DATA_PATH"
   ]
  },
  {
   "cell_type": "code",
   "execution_count": null,
   "metadata": {},
   "outputs": [],
   "source": [
    "def get_records(patients_idxs):\n",
    "    \"\"\" Get paths for data in data/mit/ directory \"\"\"\n",
    "    # Download if doesn't exist\n",
    "\n",
    "    # There are 3 files for each record\n",
    "    # *.atr is one of them\n",
    "    #paths = glob('{}/*.atr'.format(DATA_PATH))\n",
    "\n",
    "    # Get rid of the extension\n",
    "    #paths = [path[:-4] for path in paths]\n",
    "    #paths.sort()\n",
    "    \n",
    "    paths = [os.path.join(DATA_PATH, path) for path in patients_idxs]\n",
    "    \n",
    "    return paths"
   ]
  },
  {
   "cell_type": "code",
   "execution_count": null,
   "metadata": {},
   "outputs": [],
   "source": [
    "pts_train = ['222',\n",
    " '107',\n",
    " '101',\n",
    " '118',\n",
    " '116',\n",
    " '115',\n",
    " '108',\n",
    " '106',\n",
    " '214',\n",
    " '105',\n",
    " '219',\n",
    " '205',\n",
    " '102',\n",
    " '232',\n",
    " '220',\n",
    " '114',\n",
    " '228',\n",
    " '117',\n",
    " '121',\n",
    " '100',\n",
    " '231',\n",
    " '234',\n",
    " '124',\n",
    " '122',\n",
    " '202',\n",
    " '217',\n",
    " '212',\n",
    " '233']\n",
    "\n",
    "pts_val = ['210', '223', '200', '103', '113', '207', '119', '213', '112', '109']\n",
    "pts_test = ['104', '111', '123', '201', '203', '208', '209', '215', '221', '230']"
   ]
  },
  {
   "cell_type": "code",
   "execution_count": null,
   "metadata": {},
   "outputs": [],
   "source": [
    "print(len(pts_train), len(pts_val), len(pts_test))"
   ]
  },
  {
   "cell_type": "code",
   "execution_count": null,
   "metadata": {},
   "outputs": [],
   "source": [
    "train_records = get_records(pts_train)\n",
    "val_records = get_records(pts_val)\n",
    "test_records = get_records(pts_test)"
   ]
  },
  {
   "cell_type": "code",
   "execution_count": null,
   "metadata": {},
   "outputs": [],
   "source": [
    "def segmentation(records, type, output_dir=''):\n",
    "\n",
    "    \"\"\"'N' for normal beats. Similarly we can give the input 'L' for left bundle branch block beats. 'R' for right bundle branch block\n",
    "        beats. 'A' for Atrial premature contraction. 'V' for ventricular premature contraction. '/' for paced beat. 'E' for Ventricular\n",
    "        escape beat.\"\"\"\n",
    "    os.makedirs(output_dir, exist_ok=True)\n",
    "    results = []\n",
    "    kernel = np.ones((4, 4), np.uint8)\n",
    "    count = 1\n",
    "\n",
    "    '''\n",
    "    max_values = []\n",
    "    min_values = []\n",
    "    mean_values = []\n",
    "    for e in tqdm(records):\n",
    "        signals, fields = wfdb.rdsamp(e, channels=[0])\n",
    "        mean_values.append(np.mean(signals))\n",
    "\n",
    "    mean_v = np.mean(np.array(mean_values))\n",
    "    std_v = 0\n",
    "    count = 0\n",
    "    for e in tqdm(records):\n",
    "        signals, fields = wfdb.rdsamp(e, channels=[0])\n",
    "        count += len(signals)\n",
    "        for s in signals:\n",
    "            std_v += (s[0] - mean_v)**2\n",
    "\n",
    "    std_v = np.sqrt(std_v/count)'''\n",
    "\n",
    "    mean_v = -0.33859\n",
    "    std_v = 0.472368\n",
    "    floor = mean_v - 3*std_v\n",
    "    ceil = mean_v + 3*std_v\n",
    "\n",
    "    for e in records:\n",
    "        signals, fields = wfdb.rdsamp(e, channels = [0])\n",
    "\n",
    "        ann = wfdb.rdann(e, 'atr')\n",
    "        good = [type]\n",
    "        ids = np.in1d(ann.symbol, good)\n",
    "        imp_beats = ann.sample[ids]\n",
    "        beats = (ann.sample)\n",
    "        for i in tqdm(imp_beats):\n",
    "            beats = list(beats)\n",
    "            j = beats.index(i)\n",
    "            if(j!=0 and j!=(len(beats)-1)):\n",
    "\n",
    "                data = (signals[beats[j]-96: beats[j]+96, 0])\n",
    "\n",
    "                results.append(data)\n",
    "\n",
    "                plt.axis([0, 192, floor, ceil])\n",
    "                plt.plot(data, linewidth=0.5)\n",
    "                plt.xticks([]), plt.yticks([])\n",
    "                for spine in plt.gca().spines.values():\n",
    "                    spine.set_visible(False)\n",
    "\n",
    "                filename = output_dir + 'fig_{}'.format(count) + '.png'\n",
    "                plt.savefig(filename)\n",
    "                plt.close()\n",
    "                im_gray = cv2.imread(filename, cv2.IMREAD_GRAYSCALE)\n",
    "                im_gray = cv2.erode(im_gray, kernel, iterations=1)\n",
    "                im_gray = cv2.resize(im_gray, (192, 128), interpolation=cv2.INTER_LANCZOS4)\n",
    "                cv2.imwrite(filename, im_gray)\n",
    "                #print('img writtten {}'.format(filename))\n",
    "                count += 1\n",
    "                \n",
    "    return results"
   ]
  },
  {
   "cell_type": "code",
   "execution_count": null,
   "metadata": {},
   "outputs": [],
   "source": [
    "#'N' for normal beats. Similarly we can give the input 'L' for left bundle branch block beats. 'R' for right bundle branch block\n",
    "# beats. 'A' for Atrial premature contraction. 'V' for premature ventricular contraction. '/' for paced beat. 'E' for Ventricular\n",
    "# escape beat.\n",
    "\n",
    "labels = ['N', 'L', 'R', 'A', 'V', '/', 'E', '!']\n",
    "#labels = ['N', 'L','R','V','/','A','f','F','j','a','E','J','e','S']\n",
    "output_dirs = ['NOR/', 'LBBB/', 'RBBB/', 'APC/', 'PVC/', 'PAB/', 'VEB/', 'VFE/']\n",
    "#output_dirs = ['NOR/', 'ABNOR/', 'ABNOR/', 'ABNOR/', 'ABNOR/', 'ABNOR/', 'ABNOR/', 'ABNOR/']"
   ]
  },
  {
   "cell_type": "code",
   "execution_count": null,
   "metadata": {},
   "outputs": [],
   "source": [
    "train_records = train_records[:5]\n",
    "train_records"
   ]
  },
  {
   "cell_type": "code",
   "execution_count": null,
   "metadata": {},
   "outputs": [],
   "source": [
    "# Training data\n",
    "\n",
    "for type, output_dir in tqdm(zip(labels, output_dirs)):\n",
    "    output_dir = os.path.join(\"train\", output_dir)\n",
    "    sgs = segmentation(train_records, type, output_dir='../datasets/isolated-beat-images/'+output_dir)"
   ]
  },
  {
   "cell_type": "code",
   "execution_count": null,
   "metadata": {},
   "outputs": [],
   "source": []
  }
 ],
 "metadata": {
  "kernelspec": {
   "display_name": "Python 3",
   "language": "python",
   "name": "python3"
  },
  "language_info": {
   "codemirror_mode": {
    "name": "ipython",
    "version": 3
   },
   "file_extension": ".py",
   "mimetype": "text/x-python",
   "name": "python",
   "nbconvert_exporter": "python",
   "pygments_lexer": "ipython3",
   "version": "3.6.10"
  }
 },
 "nbformat": 4,
 "nbformat_minor": 4
}
